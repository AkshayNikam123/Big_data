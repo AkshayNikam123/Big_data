{
 "cells": [
  {
   "cell_type": "code",
   "execution_count": 1,
   "id": "c45386ec",
   "metadata": {},
   "outputs": [
    {
     "name": "stdout",
     "output_type": "stream",
     "text": [
      "Collecting pyspark\n",
      "  Downloading pyspark-3.5.0.tar.gz (316.9 MB)\n",
      "Note: you may need to restart the kernel to use updated packages.Collecting py4j==0.10.9.7\n",
      "  Downloading py4j-0.10.9.7-py2.py3-none-any.whl (200 kB)\n",
      "\n",
      "Building wheels for collected packages: pyspark\n",
      "  Building wheel for pyspark (setup.py): started\n",
      "  Building wheel for pyspark (setup.py): still running...\n",
      "  Building wheel for pyspark (setup.py): still running...\n",
      "  Building wheel for pyspark (setup.py): finished with status 'done'\n",
      "  Created wheel for pyspark: filename=pyspark-3.5.0-py2.py3-none-any.whl size=317425366 sha256=cc06c73cf32880840511754c20af597ab2dc6238f4ae078da76921d6005f1677\n",
      "  Stored in directory: c:\\users\\akshay\\appdata\\local\\pip\\cache\\wheels\\57\\bd\\14\\ce9e21f2649298678d011fb8f71ed38ee70b42b94fef0be142\n",
      "Successfully built pyspark\n",
      "Installing collected packages: py4j, pyspark\n",
      "Successfully installed py4j-0.10.9.7 pyspark-3.5.0\n"
     ]
    }
   ],
   "source": [
    "pip install pyspark\n"
   ]
  },
  {
   "cell_type": "code",
   "execution_count": 20,
   "id": "af055445",
   "metadata": {},
   "outputs": [],
   "source": [
    "import pyspark\n"
   ]
  },
  {
   "cell_type": "code",
   "execution_count": 21,
   "id": "9d41e4e7",
   "metadata": {},
   "outputs": [],
   "source": [
    "import pandas as pd\n",
    "df=pd.read_excel(r\"C:\\Users\\akshay\\Downloads\\waste-spent-fuel-storage-designs.xlsx\")"
   ]
  },
  {
   "cell_type": "code",
   "execution_count": 22,
   "id": "9dfc2b3d",
   "metadata": {},
   "outputs": [
    {
     "data": {
      "text/html": [
       "<div>\n",
       "<style scoped>\n",
       "    .dataframe tbody tr th:only-of-type {\n",
       "        vertical-align: middle;\n",
       "    }\n",
       "\n",
       "    .dataframe tbody tr th {\n",
       "        vertical-align: top;\n",
       "    }\n",
       "\n",
       "    .dataframe thead th {\n",
       "        text-align: right;\n",
       "    }\n",
       "</style>\n",
       "<table border=\"1\" class=\"dataframe\">\n",
       "  <thead>\n",
       "    <tr style=\"text-align: right;\">\n",
       "      <th></th>\n",
       "      <th>Year of Update</th>\n",
       "      <th>Vendor</th>\n",
       "      <th>Docket Number</th>\n",
       "      <th>Storage Design Model</th>\n",
       "      <th>Column1</th>\n",
       "      <th>Column2</th>\n",
       "      <th>Column3</th>\n",
       "      <th>Column4</th>\n",
       "    </tr>\n",
       "  </thead>\n",
       "  <tbody>\n",
       "    <tr>\n",
       "      <th>0</th>\n",
       "      <td>2022</td>\n",
       "      <td>General Nuclear Systems, Inc.</td>\n",
       "      <td>7201000</td>\n",
       "      <td>CASTOR V/21 (expired)</td>\n",
       "      <td>NaN</td>\n",
       "      <td>NaN</td>\n",
       "      <td>NaN</td>\n",
       "      <td>NaN</td>\n",
       "    </tr>\n",
       "    <tr>\n",
       "      <th>1</th>\n",
       "      <td>2022</td>\n",
       "      <td>NAC International, Inc.</td>\n",
       "      <td>7201002</td>\n",
       "      <td>NAC S/T (expired)</td>\n",
       "      <td>NaN</td>\n",
       "      <td>NaN</td>\n",
       "      <td>NaN</td>\n",
       "      <td>NaN</td>\n",
       "    </tr>\n",
       "    <tr>\n",
       "      <th>2</th>\n",
       "      <td>2022</td>\n",
       "      <td>NAC International, Inc.</td>\n",
       "      <td>7201003</td>\n",
       "      <td>NAC-C28 S/T (expired)</td>\n",
       "      <td>NaN</td>\n",
       "      <td>NaN</td>\n",
       "      <td>NaN</td>\n",
       "      <td>NaN</td>\n",
       "    </tr>\n",
       "    <tr>\n",
       "      <th>3</th>\n",
       "      <td>2022</td>\n",
       "      <td>NAC International, Inc.</td>\n",
       "      <td>7201015</td>\n",
       "      <td>NAC-UMC</td>\n",
       "      <td>NaN</td>\n",
       "      <td>NaN</td>\n",
       "      <td>NaN</td>\n",
       "      <td>NaN</td>\n",
       "    </tr>\n",
       "    <tr>\n",
       "      <th>4</th>\n",
       "      <td>2022</td>\n",
       "      <td>NAC International, Inc.</td>\n",
       "      <td>7201025</td>\n",
       "      <td>NAC-MPC</td>\n",
       "      <td>NaN</td>\n",
       "      <td>NaN</td>\n",
       "      <td>NaN</td>\n",
       "      <td>NaN</td>\n",
       "    </tr>\n",
       "  </tbody>\n",
       "</table>\n",
       "</div>"
      ],
      "text/plain": [
       "   Year of Update                         Vendor  Docket Number  \\\n",
       "0            2022  General Nuclear Systems, Inc.        7201000   \n",
       "1            2022        NAC International, Inc.        7201002   \n",
       "2            2022        NAC International, Inc.        7201003   \n",
       "3            2022        NAC International, Inc.        7201015   \n",
       "4            2022        NAC International, Inc.        7201025   \n",
       "\n",
       "    Storage Design Model  Column1  Column2  Column3  Column4  \n",
       "0  CASTOR V/21 (expired)      NaN      NaN      NaN      NaN  \n",
       "1      NAC S/T (expired)      NaN      NaN      NaN      NaN  \n",
       "2  NAC-C28 S/T (expired)      NaN      NaN      NaN      NaN  \n",
       "3                NAC-UMC      NaN      NaN      NaN      NaN  \n",
       "4                NAC-MPC      NaN      NaN      NaN      NaN  "
      ]
     },
     "execution_count": 22,
     "metadata": {},
     "output_type": "execute_result"
    }
   ],
   "source": [
    "df.head()"
   ]
  },
  {
   "cell_type": "code",
   "execution_count": 23,
   "id": "d4e4a9db",
   "metadata": {},
   "outputs": [],
   "source": [
    "from pyspark.sql import SparkSession"
   ]
  },
  {
   "cell_type": "code",
   "execution_count": 24,
   "id": "cee18d28",
   "metadata": {},
   "outputs": [],
   "source": [
    "spark=SparkSession.builder.appName(\"practice\").getOrCreate()"
   ]
  },
  {
   "cell_type": "code",
   "execution_count": 25,
   "id": "197d8da5",
   "metadata": {},
   "outputs": [],
   "source": [
    "#PySparkRuntimeError: [JAVA_GATEWAY_EXITED] Java gateway process exited before sending its port number.\n",
    "#give add environment varibales in system properties"
   ]
  },
  {
   "cell_type": "code",
   "execution_count": 26,
   "id": "5f469a1d",
   "metadata": {},
   "outputs": [
    {
     "data": {
      "text/html": [
       "\n",
       "            <div>\n",
       "                <p><b>SparkSession - in-memory</b></p>\n",
       "                \n",
       "        <div>\n",
       "            <p><b>SparkContext</b></p>\n",
       "\n",
       "            <p><a href=\"http://DESKTOP-5TOUQQI.mshome.net:4040\">Spark UI</a></p>\n",
       "\n",
       "            <dl>\n",
       "              <dt>Version</dt>\n",
       "                <dd><code>v3.5.0</code></dd>\n",
       "              <dt>Master</dt>\n",
       "                <dd><code>local[*]</code></dd>\n",
       "              <dt>AppName</dt>\n",
       "                <dd><code>practice</code></dd>\n",
       "            </dl>\n",
       "        </div>\n",
       "        \n",
       "            </div>\n",
       "        "
      ],
      "text/plain": [
       "<pyspark.sql.session.SparkSession at 0x1e8971aaaf0>"
      ]
     },
     "execution_count": 26,
     "metadata": {},
     "output_type": "execute_result"
    }
   ],
   "source": [
    "spark"
   ]
  },
  {
   "cell_type": "code",
   "execution_count": 27,
   "id": "c052a809",
   "metadata": {},
   "outputs": [],
   "source": [
    "df_spark=spark.read.csv(r\"C:\\Users\\akshay\\Downloads\\waste-spent-fuel-storage-designs.xlsx\")"
   ]
  },
  {
   "cell_type": "code",
   "execution_count": 28,
   "id": "9a7ad5c5",
   "metadata": {},
   "outputs": [
    {
     "data": {
      "text/plain": [
       "DataFrame[_c0: string]"
      ]
     },
     "execution_count": 28,
     "metadata": {},
     "output_type": "execute_result"
    }
   ],
   "source": [
    "df_spark"
   ]
  },
  {
   "cell_type": "code",
   "execution_count": 29,
   "id": "85a9a2b5",
   "metadata": {},
   "outputs": [
    {
     "data": {
      "text/plain": [
       "Row(_c0='PK\\x03\\x04\\x14\\x00\\x06\\x00\\x08\\x00\\x00\\x00!\\x008P�=�\\x01\\x00\\x00#\\x06\\x00\\x00\\x13\\x00\\x08\\x02[Content_Types].xml �\\x04\\x02(�\\x00\\x02\\x00\\x00\\x00\\x00\\x00\\x00\\x00\\x00\\x00\\x00\\x00\\x00\\x00\\x00\\x00\\x00\\x00\\x00\\x00\\x00\\x00\\x00\\x00\\x00\\x00\\x00\\x00\\x00\\x00\\x00\\x00\\x00\\x00\\x00\\x00\\x00\\x00\\x00\\x00\\x00\\x00\\x00\\x00\\x00\\x00\\x00\\x00\\x00\\x00\\x00\\x00\\x00\\x00\\x00\\x00\\x00\\x00\\x00\\x00\\x00\\x00\\x00\\x00\\x00\\x00\\x00\\x00\\x00\\x00\\x00\\x00\\x00\\x00\\x00\\x00\\x00\\x00\\x00\\x00\\x00\\x00\\x00\\x00\\x00\\x00\\x00\\x00\\x00\\x00\\x00\\x00\\x00\\x00\\x00\\x00\\x00\\x00\\x00\\x00\\x00\\x00\\x00\\x00\\x00\\x00\\x00\\x00\\x00\\x00\\x00\\x00\\x00\\x00\\x00\\x00\\x00\\x00\\x00\\x00\\x00\\x00\\x00\\x00\\x00\\x00\\x00\\x00\\x00\\x00\\x00\\x00\\x00\\x00\\x00\\x00\\x00\\x00\\x00\\x00\\x00\\x00\\x00\\x00\\x00\\x00\\x00\\x00\\x00\\x00\\x00\\x00\\x00\\x00\\x00\\x00\\x00\\x00\\x00\\x00\\x00\\x00\\x00\\x00\\x00\\x00\\x00\\x00\\x00\\x00\\x00\\x00\\x00\\x00\\x00\\x00\\x00\\x00\\x00\\x00\\x00\\x00\\x00\\x00\\x00\\x00\\x00\\x00\\x00\\x00\\x00\\x00\\x00\\x00\\x00\\x00\\x00\\x00\\x00\\x00\\x00\\x00\\x00\\x00\\x00\\x00\\x00\\x00\\x00\\x00\\x00\\x00\\x00\\x00\\x00\\x00\\x00\\x00\\x00\\x00\\x00\\x00\\x00\\x00\\x00\\x00\\x00\\x00\\x00\\x00\\x00\\x00\\x00\\x00\\x00\\x00\\x00\\x00\\x00\\x00\\x00\\x00\\x00\\x00\\x00\\x00\\x00\\x00\\x00\\x00\\x00\\x00\\x00\\x00\\x00\\x00\\x00\\x00\\x00\\x00\\x00\\x00\\x00\\x00\\x00\\x00\\x00\\x00\\x00\\x00\\x00\\x00\\x00\\x00\\x00\\x00\\x00\\x00\\x00\\x00\\x00\\x00\\x00\\x00\\x00\\x00\\x00\\x00\\x00\\x00\\x00\\x00\\x00\\x00\\x00\\x00\\x00\\x00\\x00\\x00\\x00\\x00\\x00\\x00\\x00\\x00\\x00\\x00\\x00\\x00\\x00\\x00\\x00\\x00\\x00\\x00\\x00\\x00\\x00\\x00\\x00\\x00\\x00\\x00\\x00\\x00\\x00\\x00\\x00\\x00\\x00\\x00\\x00\\x00\\x00\\x00\\x00\\x00\\x00\\x00\\x00\\x00\\x00\\x00\\x00\\x00\\x00\\x00\\x00\\x00\\x00\\x00\\x00\\x00\\x00\\x00\\x00\\x00\\x00\\x00\\x00\\x00\\x00\\x00\\x00\\x00\\x00\\x00\\x00\\x00\\x00\\x00\\x00\\x00\\x00\\x00\\x00\\x00\\x00\\x00\\x00\\x00\\x00\\x00\\x00\\x00\\x00\\x00\\x00\\x00\\x00\\x00\\x00\\x00\\x00\\x00\\x00\\x00\\x00\\x00\\x00\\x00\\x00\\x00\\x00\\x00\\x00\\x00\\x00\\x00\\x00\\x00\\x00\\x00\\x00\\x00\\x00\\x00\\x00\\x00\\x00\\x00\\x00\\x00\\x00\\x00\\x00\\x00\\x00\\x00\\x00\\x00\\x00\\x00\\x00\\x00\\x00\\x00\\x00\\x00\\x00\\x00\\x00\\x00\\x00\\x00\\x00\\x00\\x00\\x00\\x00\\x00\\x00\\x00\\x00\\x00\\x00\\x00\\x00\\x00\\x00\\x00\\x00\\x00\\x00\\x00\\x00\\x00\\x00\\x00\\x00\\x00\\x00\\x00\\x00\\x00\\x00\\x00\\x00\\x00\\x00\\x00\\x00\\x00\\x00\\x00\\x00\\x00\\x00\\x00\\x00\\x00\\x00\\x00\\x00\\x00\\x00\\x00\\x00\\x00\\x00\\x00\\x00\\x00\\x00\\x00\\x00\\x00\\x00\\x00\\x00\\x00\\x00���n� \\x10E���\\x0f\\x16��&颪�8Y��l#5�\\x00\\x02�\\x18�\\x06')"
      ]
     },
     "execution_count": 29,
     "metadata": {},
     "output_type": "execute_result"
    }
   ],
   "source": [
    "df_spark.head()"
   ]
  },
  {
   "cell_type": "code",
   "execution_count": 30,
   "id": "2d62d8a1",
   "metadata": {},
   "outputs": [
    {
     "name": "stdout",
     "output_type": "stream",
     "text": [
      "+---------------------+\n",
      "|                  _c0|\n",
      "+---------------------+\n",
      "| PK\u0003\u0004\u0014\u0000\u0006\u0000\\b\u0000\u0000\u0000!\u00008P...|\n",
      "| $���\u0003Σ��XU�1�a�=�...|\n",
      "| 82�^_M\u0016�\u0001�`�r9)�7...|\n",
      "| (�)����O����5[\u0001�\u001d",
      "...|\n",
      "|            �Ah���\u00042g|\n",
      "| ��\u001f�=\\f�7\u0015\\fmߊ�9�...|\n",
      "| ?�9L�ҙ\u0015�sbgٮ|�l!�...|\n",
      "| %��\u0014`�:�#�c��\u0001��1...|\n",
      "|讁\\a!\\a���6oB\u001d",
      "����...|\n",
      "| ���5\u001a��3\u001e",
      "8\u001d",
      "�\u001b<\u0003\\v...|\n",
      "| ���_`v�qg\u0012�b$C\u0006\u000fr...|\n",
      "| >��w� ���t�\u001d",
      "*\u0018�`_...|\n",
      "| ���a\u0016iA^\\a٬\\t��@8...|\n",
      "| -��\u0012\u0018�i�ph�ﻻ\u0015%���...|\n",
      "| Bۉ��������)۬c�~J8...|\n",
      "| \u0001Ʌ���\u0019�j�\u0016w��1ɶ��...|\n",
      "| NBK+��K��7\u0010�ԧvUPw...|\n",
      "| ��X�(&�A�\u0010��J]\u001e",
      "@�...|\n",
      "| �\u0004HA\\t��$\u0001�`\u0004��\u0010\u0010...|\n",
      "| �0'ZA�\u0001)(\u0003}�d@\u0015��...|\n",
      "+---------------------+\n",
      "only showing top 20 rows\n",
      "\n"
     ]
    }
   ],
   "source": [
    "df_spark.show()"
   ]
  },
  {
   "cell_type": "code",
   "execution_count": 38,
   "id": "be211ac7",
   "metadata": {},
   "outputs": [],
   "source": [
    "df1= spark.read.csv(r\"C:\\Users\\akshay\\Downloads\\waste-spent-fuel-storage-designs.xlsx\", header=True, inferSchema=True)"
   ]
  },
  {
   "cell_type": "code",
   "execution_count": 40,
   "id": "a270e681",
   "metadata": {},
   "outputs": [
    {
     "data": {
      "text/plain": [
       "DataFrame[PK\u0003\u0004\u0014\u0000\u0006\u0000\b\u0000\u0000\u0000!\u00008P�=�\u0001\u0000\u0000#\u0006\u0000\u0000\u0013\u0000\b\u0002[Content_Types].xml �\u0004\u0002(�\u0000\u0002\u0000\u0000\u0000\u0000\u0000\u0000\u0000\u0000\u0000\u0000\u0000\u0000\u0000\u0000\u0000\u0000\u0000\u0000\u0000\u0000\u0000\u0000\u0000\u0000\u0000\u0000\u0000\u0000\u0000\u0000\u0000\u0000\u0000\u0000\u0000\u0000\u0000\u0000\u0000\u0000\u0000\u0000\u0000\u0000\u0000\u0000\u0000\u0000\u0000\u0000\u0000\u0000\u0000\u0000\u0000\u0000\u0000\u0000\u0000\u0000\u0000\u0000\u0000\u0000\u0000\u0000\u0000\u0000\u0000\u0000\u0000\u0000\u0000\u0000\u0000\u0000\u0000\u0000\u0000\u0000\u0000\u0000\u0000\u0000\u0000\u0000\u0000\u0000\u0000\u0000\u0000\u0000\u0000\u0000\u0000\u0000\u0000\u0000\u0000\u0000\u0000\u0000\u0000\u0000\u0000\u0000\u0000\u0000\u0000\u0000\u0000\u0000\u0000\u0000\u0000\u0000\u0000\u0000\u0000\u0000\u0000\u0000\u0000\u0000\u0000\u0000\u0000\u0000\u0000\u0000\u0000\u0000\u0000\u0000\u0000\u0000\u0000\u0000\u0000\u0000\u0000\u0000\u0000\u0000\u0000\u0000\u0000\u0000\u0000\u0000\u0000\u0000\u0000\u0000\u0000\u0000\u0000\u0000\u0000\u0000\u0000\u0000\u0000\u0000\u0000\u0000\u0000\u0000\u0000\u0000\u0000\u0000\u0000\u0000\u0000\u0000\u0000\u0000\u0000\u0000\u0000\u0000\u0000\u0000\u0000\u0000\u0000\u0000\u0000\u0000\u0000\u0000\u0000\u0000\u0000\u0000\u0000\u0000\u0000\u0000\u0000\u0000\u0000\u0000\u0000\u0000\u0000\u0000\u0000\u0000\u0000\u0000\u0000\u0000\u0000\u0000\u0000\u0000\u0000\u0000\u0000\u0000\u0000\u0000\u0000\u0000\u0000\u0000\u0000\u0000\u0000\u0000\u0000\u0000\u0000\u0000\u0000\u0000\u0000\u0000\u0000\u0000\u0000\u0000\u0000\u0000\u0000\u0000\u0000\u0000\u0000\u0000\u0000\u0000\u0000\u0000\u0000\u0000\u0000\u0000\u0000\u0000\u0000\u0000\u0000\u0000\u0000\u0000\u0000\u0000\u0000\u0000\u0000\u0000\u0000\u0000\u0000\u0000\u0000\u0000\u0000\u0000\u0000\u0000\u0000\u0000\u0000\u0000\u0000\u0000\u0000\u0000\u0000\u0000\u0000\u0000\u0000\u0000\u0000\u0000\u0000\u0000\u0000\u0000\u0000\u0000\u0000\u0000\u0000\u0000\u0000\u0000\u0000\u0000\u0000\u0000\u0000\u0000\u0000\u0000\u0000\u0000\u0000\u0000\u0000\u0000\u0000\u0000\u0000\u0000\u0000\u0000\u0000\u0000\u0000\u0000\u0000\u0000\u0000\u0000\u0000\u0000\u0000\u0000\u0000\u0000\u0000\u0000\u0000\u0000\u0000\u0000\u0000\u0000\u0000\u0000\u0000\u0000\u0000\u0000\u0000\u0000\u0000\u0000\u0000\u0000\u0000\u0000\u0000\u0000\u0000\u0000\u0000\u0000\u0000\u0000\u0000\u0000\u0000\u0000\u0000\u0000\u0000\u0000\u0000\u0000\u0000\u0000\u0000\u0000\u0000\u0000\u0000\u0000\u0000\u0000\u0000\u0000\u0000\u0000\u0000\u0000\u0000\u0000\u0000\u0000\u0000\u0000\u0000\u0000\u0000\u0000\u0000\u0000\u0000\u0000\u0000\u0000\u0000\u0000\u0000\u0000\u0000\u0000\u0000\u0000\u0000\u0000\u0000\u0000\u0000\u0000\u0000\u0000\u0000\u0000\u0000\u0000\u0000\u0000\u0000\u0000\u0000\u0000\u0000\u0000\u0000\u0000\u0000\u0000\u0000\u0000\u0000\u0000\u0000\u0000\u0000\u0000\u0000\u0000\u0000\u0000\u0000\u0000\u0000\u0000\u0000\u0000\u0000\u0000\u0000\u0000\u0000\u0000\u0000\u0000\u0000\u0000\u0000\u0000\u0000\u0000\u0000\u0000\u0000\u0000\u0000\u0000\u0000\u0000\u0000\u0000\u0000\u0000\u0000\u0000\u0000\u0000\u0000\u0000\u0000\u0000\u0000\u0000\u0000\u0000\u0000\u0000\u0000\u0000\u0000\u0000���n� \u0010E���\u000f\u0016��&颪�8Y��l#5�\u0000\u0002�\u0018�\u0006: string]"
      ]
     },
     "execution_count": 40,
     "metadata": {},
     "output_type": "execute_result"
    }
   ],
   "source": [
    "df1"
   ]
  },
  {
   "cell_type": "code",
   "execution_count": 41,
   "id": "817efa24",
   "metadata": {},
   "outputs": [
    {
     "data": {
      "text/plain": [
       "Row(PK\u0003\u0004\u0014\u0000\u0006\u0000\b\u0000\u0000\u0000!\u00008P�=�\u0001\u0000\u0000#\u0006\u0000\u0000\u0013\u0000\b\u0002[Content_Types].xml �\u0004\u0002(�\u0000\u0002\u0000\u0000\u0000\u0000\u0000\u0000\u0000\u0000\u0000\u0000\u0000\u0000\u0000\u0000\u0000\u0000\u0000\u0000\u0000\u0000\u0000\u0000\u0000\u0000\u0000\u0000\u0000\u0000\u0000\u0000\u0000\u0000\u0000\u0000\u0000\u0000\u0000\u0000\u0000\u0000\u0000\u0000\u0000\u0000\u0000\u0000\u0000\u0000\u0000\u0000\u0000\u0000\u0000\u0000\u0000\u0000\u0000\u0000\u0000\u0000\u0000\u0000\u0000\u0000\u0000\u0000\u0000\u0000\u0000\u0000\u0000\u0000\u0000\u0000\u0000\u0000\u0000\u0000\u0000\u0000\u0000\u0000\u0000\u0000\u0000\u0000\u0000\u0000\u0000\u0000\u0000\u0000\u0000\u0000\u0000\u0000\u0000\u0000\u0000\u0000\u0000\u0000\u0000\u0000\u0000\u0000\u0000\u0000\u0000\u0000\u0000\u0000\u0000\u0000\u0000\u0000\u0000\u0000\u0000\u0000\u0000\u0000\u0000\u0000\u0000\u0000\u0000\u0000\u0000\u0000\u0000\u0000\u0000\u0000\u0000\u0000\u0000\u0000\u0000\u0000\u0000\u0000\u0000\u0000\u0000\u0000\u0000\u0000\u0000\u0000\u0000\u0000\u0000\u0000\u0000\u0000\u0000\u0000\u0000\u0000\u0000\u0000\u0000\u0000\u0000\u0000\u0000\u0000\u0000\u0000\u0000\u0000\u0000\u0000\u0000\u0000\u0000\u0000\u0000\u0000\u0000\u0000\u0000\u0000\u0000\u0000\u0000\u0000\u0000\u0000\u0000\u0000\u0000\u0000\u0000\u0000\u0000\u0000\u0000\u0000\u0000\u0000\u0000\u0000\u0000\u0000\u0000\u0000\u0000\u0000\u0000\u0000\u0000\u0000\u0000\u0000\u0000\u0000\u0000\u0000\u0000\u0000\u0000\u0000\u0000\u0000\u0000\u0000\u0000\u0000\u0000\u0000\u0000\u0000\u0000\u0000\u0000\u0000\u0000\u0000\u0000\u0000\u0000\u0000\u0000\u0000\u0000\u0000\u0000\u0000\u0000\u0000\u0000\u0000\u0000\u0000\u0000\u0000\u0000\u0000\u0000\u0000\u0000\u0000\u0000\u0000\u0000\u0000\u0000\u0000\u0000\u0000\u0000\u0000\u0000\u0000\u0000\u0000\u0000\u0000\u0000\u0000\u0000\u0000\u0000\u0000\u0000\u0000\u0000\u0000\u0000\u0000\u0000\u0000\u0000\u0000\u0000\u0000\u0000\u0000\u0000\u0000\u0000\u0000\u0000\u0000\u0000\u0000\u0000\u0000\u0000\u0000\u0000\u0000\u0000\u0000\u0000\u0000\u0000\u0000\u0000\u0000\u0000\u0000\u0000\u0000\u0000\u0000\u0000\u0000\u0000\u0000\u0000\u0000\u0000\u0000\u0000\u0000\u0000\u0000\u0000\u0000\u0000\u0000\u0000\u0000\u0000\u0000\u0000\u0000\u0000\u0000\u0000\u0000\u0000\u0000\u0000\u0000\u0000\u0000\u0000\u0000\u0000\u0000\u0000\u0000\u0000\u0000\u0000\u0000\u0000\u0000\u0000\u0000\u0000\u0000\u0000\u0000\u0000\u0000\u0000\u0000\u0000\u0000\u0000\u0000\u0000\u0000\u0000\u0000\u0000\u0000\u0000\u0000\u0000\u0000\u0000\u0000\u0000\u0000\u0000\u0000\u0000\u0000\u0000\u0000\u0000\u0000\u0000\u0000\u0000\u0000\u0000\u0000\u0000\u0000\u0000\u0000\u0000\u0000\u0000\u0000\u0000\u0000\u0000\u0000\u0000\u0000\u0000\u0000\u0000\u0000\u0000\u0000\u0000\u0000\u0000\u0000\u0000\u0000\u0000\u0000\u0000\u0000\u0000\u0000\u0000\u0000\u0000\u0000\u0000\u0000\u0000\u0000\u0000\u0000\u0000\u0000\u0000\u0000\u0000\u0000\u0000\u0000\u0000\u0000\u0000\u0000\u0000\u0000\u0000\u0000\u0000\u0000\u0000\u0000\u0000\u0000\u0000\u0000\u0000\u0000\u0000\u0000\u0000\u0000\u0000\u0000\u0000\u0000\u0000\u0000\u0000\u0000\u0000\u0000\u0000\u0000\u0000\u0000\u0000\u0000\u0000\u0000\u0000\u0000\u0000\u0000\u0000\u0000\u0000\u0000���n� \u0010E���\u000f\u0016��&颪�8Y��l#5�\u0000\u0002�\u0018�\u0006=\"$���\\x03Σ��XU�1�a�=��Lf��J�`��*'�lD\\x12P\\\\\\x0b�V9�X���$q�)�*� '\")"
      ]
     },
     "execution_count": 41,
     "metadata": {},
     "output_type": "execute_result"
    }
   ],
   "source": [
    "df1.head()"
   ]
  },
  {
   "cell_type": "code",
   "execution_count": 42,
   "id": "57c463a4",
   "metadata": {},
   "outputs": [
    {
     "name": "stdout",
     "output_type": "stream",
     "text": [
      "root\n",
      " |-- PK\u0003\u0004\u0014\u0000\u0006\u0000\\b\u0000\u0000\u0000!\u00008P�=�\u0001\u0000\u0000#\u0006\u0000\u0000\u0013\u0000\\b\u0002[Content_Types].xml �\u0004\u0002(�\u0000\u0002\u0000\u0000\u0000\u0000\u0000\u0000\u0000\u0000\u0000\u0000\u0000\u0000\u0000\u0000\u0000\u0000\u0000\u0000\u0000\u0000\u0000\u0000\u0000\u0000\u0000\u0000\u0000\u0000\u0000\u0000\u0000\u0000\u0000\u0000\u0000\u0000\u0000\u0000\u0000\u0000\u0000\u0000\u0000\u0000\u0000\u0000\u0000\u0000\u0000\u0000\u0000\u0000\u0000\u0000\u0000\u0000\u0000\u0000\u0000\u0000\u0000\u0000\u0000\u0000\u0000\u0000\u0000\u0000\u0000\u0000\u0000\u0000\u0000\u0000\u0000\u0000\u0000\u0000\u0000\u0000\u0000\u0000\u0000\u0000\u0000\u0000\u0000\u0000\u0000\u0000\u0000\u0000\u0000\u0000\u0000\u0000\u0000\u0000\u0000\u0000\u0000\u0000\u0000\u0000\u0000\u0000\u0000\u0000\u0000\u0000\u0000\u0000\u0000\u0000\u0000\u0000\u0000\u0000\u0000\u0000\u0000\u0000\u0000\u0000\u0000\u0000\u0000\u0000\u0000\u0000\u0000\u0000\u0000\u0000\u0000\u0000\u0000\u0000\u0000\u0000\u0000\u0000\u0000\u0000\u0000\u0000\u0000\u0000\u0000\u0000\u0000\u0000\u0000\u0000\u0000\u0000\u0000\u0000\u0000\u0000\u0000\u0000\u0000\u0000\u0000\u0000\u0000\u0000\u0000\u0000\u0000\u0000\u0000\u0000\u0000\u0000\u0000\u0000\u0000\u0000\u0000\u0000\u0000\u0000\u0000\u0000\u0000\u0000\u0000\u0000\u0000\u0000\u0000\u0000\u0000\u0000\u0000\u0000\u0000\u0000\u0000\u0000\u0000\u0000\u0000\u0000\u0000\u0000\u0000\u0000\u0000\u0000\u0000\u0000\u0000\u0000\u0000\u0000\u0000\u0000\u0000\u0000\u0000\u0000\u0000\u0000\u0000\u0000\u0000\u0000\u0000\u0000\u0000\u0000\u0000\u0000\u0000\u0000\u0000\u0000\u0000\u0000\u0000\u0000\u0000\u0000\u0000\u0000\u0000\u0000\u0000\u0000\u0000\u0000\u0000\u0000\u0000\u0000\u0000\u0000\u0000\u0000\u0000\u0000\u0000\u0000\u0000\u0000\u0000\u0000\u0000\u0000\u0000\u0000\u0000\u0000\u0000\u0000\u0000\u0000\u0000\u0000\u0000\u0000\u0000\u0000\u0000\u0000\u0000\u0000\u0000\u0000\u0000\u0000\u0000\u0000\u0000\u0000\u0000\u0000\u0000\u0000\u0000\u0000\u0000\u0000\u0000\u0000\u0000\u0000\u0000\u0000\u0000\u0000\u0000\u0000\u0000\u0000\u0000\u0000\u0000\u0000\u0000\u0000\u0000\u0000\u0000\u0000\u0000\u0000\u0000\u0000\u0000\u0000\u0000\u0000\u0000\u0000\u0000\u0000\u0000\u0000\u0000\u0000\u0000\u0000\u0000\u0000\u0000\u0000\u0000\u0000\u0000\u0000\u0000\u0000\u0000\u0000\u0000\u0000\u0000\u0000\u0000\u0000\u0000\u0000\u0000\u0000\u0000\u0000\u0000\u0000\u0000\u0000\u0000\u0000\u0000\u0000\u0000\u0000\u0000\u0000\u0000\u0000\u0000\u0000\u0000\u0000\u0000\u0000\u0000\u0000\u0000\u0000\u0000\u0000\u0000\u0000\u0000\u0000\u0000\u0000\u0000\u0000\u0000\u0000\u0000\u0000\u0000\u0000\u0000\u0000\u0000\u0000\u0000\u0000\u0000\u0000\u0000\u0000\u0000\u0000\u0000\u0000\u0000\u0000\u0000\u0000\u0000\u0000\u0000\u0000\u0000\u0000\u0000\u0000\u0000\u0000\u0000\u0000\u0000\u0000\u0000\u0000\u0000\u0000\u0000\u0000\u0000\u0000\u0000\u0000\u0000\u0000\u0000\u0000\u0000\u0000\u0000\u0000\u0000\u0000\u0000\u0000\u0000\u0000\u0000\u0000\u0000\u0000\u0000\u0000\u0000\u0000\u0000\u0000\u0000\u0000\u0000\u0000\u0000\u0000\u0000\u0000\u0000\u0000\u0000\u0000\u0000\u0000\u0000\u0000\u0000\u0000\u0000\u0000\u0000\u0000\u0000\u0000\u0000\u0000\u0000\u0000\u0000\u0000\u0000\u0000\u0000\u0000\u0000\u0000���n� \u0010E���\u000f\u0016��&颪�8Y��l#5�\u0000\u0002�\u0018�\u0006: string (nullable = true)\n",
      "\n"
     ]
    }
   ],
   "source": [
    "df1.printSchema()"
   ]
  },
  {
   "cell_type": "code",
   "execution_count": null,
   "id": "0769c7c0",
   "metadata": {},
   "outputs": [],
   "source": []
  },
  {
   "cell_type": "code",
   "execution_count": null,
   "id": "3f6f9743",
   "metadata": {},
   "outputs": [],
   "source": []
  },
  {
   "cell_type": "code",
   "execution_count": null,
   "id": "85140965",
   "metadata": {},
   "outputs": [],
   "source": []
  },
  {
   "cell_type": "code",
   "execution_count": 139,
   "id": "1af26ab2",
   "metadata": {},
   "outputs": [],
   "source": [
    "df_pyspark1=spark.read.option('header','true').csv(r\"C:\\Users\\akshay\\Downloads\\NBA_2024_Western_Conference_Standing.csv\",inferSchema=True)"
   ]
  },
  {
   "cell_type": "code",
   "execution_count": 140,
   "id": "982fbe69",
   "metadata": {},
   "outputs": [
    {
     "name": "stdout",
     "output_type": "stream",
     "text": [
      "+--------------------+----+----+-----+-----+-----+-----+-------+------+-----+-----+--------+--------+----+----+----+----+----+----+----+----+----+----+----+----+----+----+----+----+--------+----------+\n",
      "|  Western Conference|   W|   L| W/L%|  SOS| rSOS|  SRS|Current|Remain| Best|Worst|Playoffs|Division|   1|   2|   3|   4|   5|   6| 719| 820|_c21| 1-6| 723| 824|   9|  10| Out|_c28|Win Conf|Win Finals|\n",
      "+--------------------+----+----+-----+-----+-----+-----+-------+------+-----+-----+--------+--------+----+----+----+----+----+----+----+----+----+----+----+----+----+----+----+----+--------+----------+\n",
      "|Minnesota Timberw...|53.1|26.9|0.664| 0.98|-0.96| 11.1|    6-2| 47-25|68-12|37-43|  100.0%|   56.4%|50.9|30.4|13.0| 3.8| 1.4| 0.4| 0.1| 0.1|NULL|99.9| 0.1|NULL|NULL|NULL|NULL|NULL|   39.1%|     16.8%|\n",
      "|      Denver Nuggets|52.4|27.6|0.655|-1.56|-0.73| 8.44|    8-1| 44-27|67-13|37-43|  100.0%|   43.3%|39.6|35.8|16.0| 5.9| 1.9| 0.6| 0.2| 0.1|NULL|99.7| 0.2| 0.1|NULL|NULL|NULL|NULL|   29.1%|     11.2%|\n",
      "|    Dallas Mavericks|47.5|32.5|0.593|-1.51|-0.39| 4.38|    7-2| 40-31|61-19|32-48|   98.9%|   74.9%| 6.6|19.5|31.2|19.3|12.0| 6.3| 2.8| 1.3|NULL|94.9| 3.1| 1.2| 0.5| 0.2| 0.1|NULL|   11.9%|      3.1%|\n",
      "|Golden State Warr...|44.6|35.4|0.558|-0.85|-0.46| 2.65|    6-4| 39-31|58-22|27-53|   95.6%|   69.9%| 1.6| 7.4|17.8|26.2|19.3|12.4| 6.9| 3.9|NULL|84.7| 7.8| 4.1| 1.9| 0.9| 0.7|NULL|    7.3%|      1.5%|\n",
      "|     Houston Rockets|43.5|36.5|0.543|-3.49|-0.52| 2.01|    5-3| 38-34|58-22|28-52|   92.1%|   24.3%| 1.0| 4.5|11.3|19.4|22.7|17.0|10.0| 6.2|NULL|75.9|11.4| 6.0| 3.6| 1.9| 1.2|NULL|    5.2%|      1.1%|\n",
      "|Oklahoma City Thu...|41.3|38.7|0.516|-0.29|-0.35| 0.38|    5-4| 36-35|56-24|26-54|   80.8%|    0.4%| 0.2| 1.1| 5.2|10.5|16.5|19.2|15.7|12.4|NULL|52.7|17.3|12.6| 8.0| 4.6| 4.7|NULL|    2.8%|      0.6%|\n",
      "|Los Angeles Clippers|40.4|39.6|0.504| -2.0|-0.31| 0.75|    3-5| 37-35|55-25|23-57|   76.2%|   19.7%| 0.1| 1.1| 4.0| 9.1|13.6|18.2|17.2|12.8|NULL|46.2|17.3|14.2| 9.3| 6.2| 6.8|NULL|    3.1%|      0.6%|\n",
      "|        Phoenix Suns|36.9|43.1|0.462|-3.75|-0.04|-2.75|    4-5| 33-38|55-25|21-59|   44.4%|    5.3%|NULL| 0.1| 0.6| 2.4| 4.6| 8.5|13.5|14.7|NULL|16.3|12.2|15.3|16.1|13.9|26.2|NULL|    0.6%|      0.1%|\n",
      "|    Sacramento Kings|36.2|43.8|0.452|-1.34| 0.13|-3.97|    4-4| 32-40|52-28|21-59|   38.8%|    3.6%|NULL| 0.1| 0.4| 1.5| 3.4| 6.6|11.9|15.0|NULL|12.0|10.9|14.7|16.6|16.0|29.8|NULL|    0.5%|      0.1%|\n",
      "|New Orleans Pelicans|35.7|44.3|0.446| 2.07|-0.49|-4.49|    4-5| 32-39|50-30|21-59|   33.7%|    0.9%|NULL|NULL| 0.3| 1.0| 2.5| 5.8|10.5|13.6|NULL| 9.7| 9.4|14.1|15.7|15.9|35.3|NULL|    0.3%|      NULL|\n",
      "|  Los Angeles Lakers|34.3|45.7|0.428| 0.59|-0.07|-5.52|    4-5| 30-41|50-30|19-61|   21.7%|    1.5%|NULL|NULL| 0.2| 0.7| 1.4| 3.2| 6.5| 9.6|NULL| 5.5| 5.9| 9.4|13.5|16.0|49.8|NULL|    0.1%|      NULL|\n",
      "|Portland Trail Bl...|32.6|47.4|0.407|-1.51| 0.24|-6.63|    3-5| 30-42|48-32|18-62|   12.1%|    NULL|NULL|NULL|NULL| 0.1| 0.5| 1.4| 3.5| 6.5|NULL| 2.1| 3.1| 5.6| 8.7|12.6|67.9|NULL|    0.1%|      NULL|\n",
      "|   San Antonio Spurs|29.4|50.6|0.367| 2.51|-0.15|-9.38|    3-6| 26-45|44-36|16-64|    2.6%|    NULL|NULL|NULL|NULL|NULL| 0.1| 0.1| 0.7| 1.7|NULL| 0.2| 0.6| 1.4| 2.8| 5.5|89.5|NULL|    NULL|      NULL|\n",
      "|           Utah Jazz|29.1|50.9|0.364|-0.56| 0.35|-8.26|    3-7| 26-44|44-36|15-65|    2.5%|    NULL|NULL|NULL|NULL|NULL|NULL| 0.2| 0.7| 1.6|NULL| 0.2| 0.5| 1.2| 2.7| 5.0|90.5|NULL|    NULL|      NULL|\n",
      "|   Memphis Grizzlies|26.5|53.5|0.331|-3.13| 0.42|-9.68|    1-8| 25-46|42-38|13-67|    0.6%|    NULL|NULL|NULL|NULL|NULL|NULL| 0.1| 0.1| 0.5|NULL| 0.1| 0.1| 0.2| 0.6| 1.5|97.5|NULL|    NULL|      NULL|\n",
      "+--------------------+----+----+-----+-----+-----+-----+-------+------+-----+-----+--------+--------+----+----+----+----+----+----+----+----+----+----+----+----+----+----+----+----+--------+----------+\n",
      "\n"
     ]
    }
   ],
   "source": [
    "df_pyspark1.show()"
   ]
  },
  {
   "cell_type": "code",
   "execution_count": 141,
   "id": "1c3957f5",
   "metadata": {},
   "outputs": [
    {
     "data": {
      "text/plain": [
       "[Row(Western Conference='Minnesota Timberwolves', W=53.1, L=26.9, W/L%=0.664, SOS=0.98, rSOS=-0.96, SRS=11.1, Current='6-2', Remain='47-25', Best='68-12', Worst='37-43', Playoffs='100.0%', Division='56.4%', 1=50.9, 2=30.4, 3=13.0, 4=3.8, 5=1.4, 6=0.4, 719=0.1, 820=0.1, _c21=None, 1-6=99.9, 723=0.1, 824=None, 9=None, 10=None, Out=None, _c28=None, Win Conf='39.1%', Win Finals='16.8%'),\n",
       " Row(Western Conference='Denver Nuggets', W=52.4, L=27.6, W/L%=0.655, SOS=-1.56, rSOS=-0.73, SRS=8.44, Current='8-1', Remain='44-27', Best='67-13', Worst='37-43', Playoffs='100.0%', Division='43.3%', 1=39.6, 2=35.8, 3=16.0, 4=5.9, 5=1.9, 6=0.6, 719=0.2, 820=0.1, _c21=None, 1-6=99.7, 723=0.2, 824=0.1, 9=None, 10=None, Out=None, _c28=None, Win Conf='29.1%', Win Finals='11.2%'),\n",
       " Row(Western Conference='Dallas Mavericks', W=47.5, L=32.5, W/L%=0.593, SOS=-1.51, rSOS=-0.39, SRS=4.38, Current='7-2', Remain='40-31', Best='61-19', Worst='32-48', Playoffs='98.9%', Division='74.9%', 1=6.6, 2=19.5, 3=31.2, 4=19.3, 5=12.0, 6=6.3, 719=2.8, 820=1.3, _c21=None, 1-6=94.9, 723=3.1, 824=1.2, 9=0.5, 10=0.2, Out=0.1, _c28=None, Win Conf='11.9%', Win Finals='3.1%'),\n",
       " Row(Western Conference='Golden State Warriors', W=44.6, L=35.4, W/L%=0.558, SOS=-0.85, rSOS=-0.46, SRS=2.65, Current='6-4', Remain='39-31', Best='58-22', Worst='27-53', Playoffs='95.6%', Division='69.9%', 1=1.6, 2=7.4, 3=17.8, 4=26.2, 5=19.3, 6=12.4, 719=6.9, 820=3.9, _c21=None, 1-6=84.7, 723=7.8, 824=4.1, 9=1.9, 10=0.9, Out=0.7, _c28=None, Win Conf='7.3%', Win Finals='1.5%'),\n",
       " Row(Western Conference='Houston Rockets', W=43.5, L=36.5, W/L%=0.543, SOS=-3.49, rSOS=-0.52, SRS=2.01, Current='5-3', Remain='38-34', Best='58-22', Worst='28-52', Playoffs='92.1%', Division='24.3%', 1=1.0, 2=4.5, 3=11.3, 4=19.4, 5=22.7, 6=17.0, 719=10.0, 820=6.2, _c21=None, 1-6=75.9, 723=11.4, 824=6.0, 9=3.6, 10=1.9, Out=1.2, _c28=None, Win Conf='5.2%', Win Finals='1.1%')]"
      ]
     },
     "execution_count": 141,
     "metadata": {},
     "output_type": "execute_result"
    }
   ],
   "source": [
    "df_pyspark1.head(5)"
   ]
  },
  {
   "cell_type": "code",
   "execution_count": 142,
   "id": "31cba425",
   "metadata": {},
   "outputs": [
    {
     "name": "stdout",
     "output_type": "stream",
     "text": [
      "root\n",
      " |-- Western Conference: string (nullable = true)\n",
      " |-- W: double (nullable = true)\n",
      " |-- L: double (nullable = true)\n",
      " |-- W/L%: double (nullable = true)\n",
      " |-- SOS: double (nullable = true)\n",
      " |-- rSOS: double (nullable = true)\n",
      " |-- SRS: double (nullable = true)\n",
      " |-- Current: string (nullable = true)\n",
      " |-- Remain: string (nullable = true)\n",
      " |-- Best: string (nullable = true)\n",
      " |-- Worst: string (nullable = true)\n",
      " |-- Playoffs: string (nullable = true)\n",
      " |-- Division: string (nullable = true)\n",
      " |-- 1: double (nullable = true)\n",
      " |-- 2: double (nullable = true)\n",
      " |-- 3: double (nullable = true)\n",
      " |-- 4: double (nullable = true)\n",
      " |-- 5: double (nullable = true)\n",
      " |-- 6: double (nullable = true)\n",
      " |-- 719: double (nullable = true)\n",
      " |-- 820: double (nullable = true)\n",
      " |-- _c21: string (nullable = true)\n",
      " |-- 1-6: double (nullable = true)\n",
      " |-- 723: double (nullable = true)\n",
      " |-- 824: double (nullable = true)\n",
      " |-- 9: double (nullable = true)\n",
      " |-- 10: double (nullable = true)\n",
      " |-- Out: double (nullable = true)\n",
      " |-- _c28: string (nullable = true)\n",
      " |-- Win Conf: string (nullable = true)\n",
      " |-- Win Finals: string (nullable = true)\n",
      "\n"
     ]
    }
   ],
   "source": [
    "df_pyspark1.printSchema()\n",
    "#shows all column as string so use inferschema to take original column type"
   ]
  },
  {
   "cell_type": "code",
   "execution_count": 144,
   "id": "8634cf6d",
   "metadata": {},
   "outputs": [
    {
     "name": "stdout",
     "output_type": "stream",
     "text": [
      "+--------------------+----+----+-----+-----+-----+-----+-------+------+-----+-----+--------+--------+----+----+----+----+----+----+----+----+----+----+----+----+----+----+----+----+--------+----------+\n",
      "|  Western Conference|   W|   L| W/L%|  SOS| rSOS|  SRS|Current|Remain| Best|Worst|Playoffs|Division|   1|   2|   3|   4|   5|   6| 719| 820|_c21| 1-6| 723| 824|   9|  10| Out|_c28|Win Conf|Win Finals|\n",
      "+--------------------+----+----+-----+-----+-----+-----+-------+------+-----+-----+--------+--------+----+----+----+----+----+----+----+----+----+----+----+----+----+----+----+----+--------+----------+\n",
      "|Minnesota Timberw...|53.1|26.9|0.664| 0.98|-0.96| 11.1|    6-2| 47-25|68-12|37-43|  100.0%|   56.4%|50.9|30.4|13.0| 3.8| 1.4| 0.4| 0.1| 0.1|NULL|99.9| 0.1|NULL|NULL|NULL|NULL|NULL|   39.1%|     16.8%|\n",
      "|      Denver Nuggets|52.4|27.6|0.655|-1.56|-0.73| 8.44|    8-1| 44-27|67-13|37-43|  100.0%|   43.3%|39.6|35.8|16.0| 5.9| 1.9| 0.6| 0.2| 0.1|NULL|99.7| 0.2| 0.1|NULL|NULL|NULL|NULL|   29.1%|     11.2%|\n",
      "|    Dallas Mavericks|47.5|32.5|0.593|-1.51|-0.39| 4.38|    7-2| 40-31|61-19|32-48|   98.9%|   74.9%| 6.6|19.5|31.2|19.3|12.0| 6.3| 2.8| 1.3|NULL|94.9| 3.1| 1.2| 0.5| 0.2| 0.1|NULL|   11.9%|      3.1%|\n",
      "|Golden State Warr...|44.6|35.4|0.558|-0.85|-0.46| 2.65|    6-4| 39-31|58-22|27-53|   95.6%|   69.9%| 1.6| 7.4|17.8|26.2|19.3|12.4| 6.9| 3.9|NULL|84.7| 7.8| 4.1| 1.9| 0.9| 0.7|NULL|    7.3%|      1.5%|\n",
      "|     Houston Rockets|43.5|36.5|0.543|-3.49|-0.52| 2.01|    5-3| 38-34|58-22|28-52|   92.1%|   24.3%| 1.0| 4.5|11.3|19.4|22.7|17.0|10.0| 6.2|NULL|75.9|11.4| 6.0| 3.6| 1.9| 1.2|NULL|    5.2%|      1.1%|\n",
      "|Oklahoma City Thu...|41.3|38.7|0.516|-0.29|-0.35| 0.38|    5-4| 36-35|56-24|26-54|   80.8%|    0.4%| 0.2| 1.1| 5.2|10.5|16.5|19.2|15.7|12.4|NULL|52.7|17.3|12.6| 8.0| 4.6| 4.7|NULL|    2.8%|      0.6%|\n",
      "|Los Angeles Clippers|40.4|39.6|0.504| -2.0|-0.31| 0.75|    3-5| 37-35|55-25|23-57|   76.2%|   19.7%| 0.1| 1.1| 4.0| 9.1|13.6|18.2|17.2|12.8|NULL|46.2|17.3|14.2| 9.3| 6.2| 6.8|NULL|    3.1%|      0.6%|\n",
      "|        Phoenix Suns|36.9|43.1|0.462|-3.75|-0.04|-2.75|    4-5| 33-38|55-25|21-59|   44.4%|    5.3%|NULL| 0.1| 0.6| 2.4| 4.6| 8.5|13.5|14.7|NULL|16.3|12.2|15.3|16.1|13.9|26.2|NULL|    0.6%|      0.1%|\n",
      "|    Sacramento Kings|36.2|43.8|0.452|-1.34| 0.13|-3.97|    4-4| 32-40|52-28|21-59|   38.8%|    3.6%|NULL| 0.1| 0.4| 1.5| 3.4| 6.6|11.9|15.0|NULL|12.0|10.9|14.7|16.6|16.0|29.8|NULL|    0.5%|      0.1%|\n",
      "|New Orleans Pelicans|35.7|44.3|0.446| 2.07|-0.49|-4.49|    4-5| 32-39|50-30|21-59|   33.7%|    0.9%|NULL|NULL| 0.3| 1.0| 2.5| 5.8|10.5|13.6|NULL| 9.7| 9.4|14.1|15.7|15.9|35.3|NULL|    0.3%|      NULL|\n",
      "|  Los Angeles Lakers|34.3|45.7|0.428| 0.59|-0.07|-5.52|    4-5| 30-41|50-30|19-61|   21.7%|    1.5%|NULL|NULL| 0.2| 0.7| 1.4| 3.2| 6.5| 9.6|NULL| 5.5| 5.9| 9.4|13.5|16.0|49.8|NULL|    0.1%|      NULL|\n",
      "|Portland Trail Bl...|32.6|47.4|0.407|-1.51| 0.24|-6.63|    3-5| 30-42|48-32|18-62|   12.1%|    NULL|NULL|NULL|NULL| 0.1| 0.5| 1.4| 3.5| 6.5|NULL| 2.1| 3.1| 5.6| 8.7|12.6|67.9|NULL|    0.1%|      NULL|\n",
      "|   San Antonio Spurs|29.4|50.6|0.367| 2.51|-0.15|-9.38|    3-6| 26-45|44-36|16-64|    2.6%|    NULL|NULL|NULL|NULL|NULL| 0.1| 0.1| 0.7| 1.7|NULL| 0.2| 0.6| 1.4| 2.8| 5.5|89.5|NULL|    NULL|      NULL|\n",
      "|           Utah Jazz|29.1|50.9|0.364|-0.56| 0.35|-8.26|    3-7| 26-44|44-36|15-65|    2.5%|    NULL|NULL|NULL|NULL|NULL|NULL| 0.2| 0.7| 1.6|NULL| 0.2| 0.5| 1.2| 2.7| 5.0|90.5|NULL|    NULL|      NULL|\n",
      "|   Memphis Grizzlies|26.5|53.5|0.331|-3.13| 0.42|-9.68|    1-8| 25-46|42-38|13-67|    0.6%|    NULL|NULL|NULL|NULL|NULL|NULL| 0.1| 0.1| 0.5|NULL| 0.1| 0.1| 0.2| 0.6| 1.5|97.5|NULL|    NULL|      NULL|\n",
      "+--------------------+----+----+-----+-----+-----+-----+-------+------+-----+-----+--------+--------+----+----+----+----+----+----+----+----+----+----+----+----+----+----+----+----+--------+----------+\n",
      "\n"
     ]
    }
   ],
   "source": [
    "df_pyspark2=spark.read.csv(r\"C:\\Users\\akshay\\Downloads\\NBA_2024_Western_Conference_Standing.csv\",header=True,inferSchema=True)\n",
    "df_pyspark2.show()"
   ]
  },
  {
   "cell_type": "code",
   "execution_count": 145,
   "id": "d07e12c7",
   "metadata": {},
   "outputs": [
    {
     "name": "stdout",
     "output_type": "stream",
     "text": [
      "root\n",
      " |-- Western Conference: string (nullable = true)\n",
      " |-- W: double (nullable = true)\n",
      " |-- L: double (nullable = true)\n",
      " |-- W/L%: double (nullable = true)\n",
      " |-- SOS: double (nullable = true)\n",
      " |-- rSOS: double (nullable = true)\n",
      " |-- SRS: double (nullable = true)\n",
      " |-- Current: string (nullable = true)\n",
      " |-- Remain: string (nullable = true)\n",
      " |-- Best: string (nullable = true)\n",
      " |-- Worst: string (nullable = true)\n",
      " |-- Playoffs: string (nullable = true)\n",
      " |-- Division: string (nullable = true)\n",
      " |-- 1: double (nullable = true)\n",
      " |-- 2: double (nullable = true)\n",
      " |-- 3: double (nullable = true)\n",
      " |-- 4: double (nullable = true)\n",
      " |-- 5: double (nullable = true)\n",
      " |-- 6: double (nullable = true)\n",
      " |-- 719: double (nullable = true)\n",
      " |-- 820: double (nullable = true)\n",
      " |-- _c21: string (nullable = true)\n",
      " |-- 1-6: double (nullable = true)\n",
      " |-- 723: double (nullable = true)\n",
      " |-- 824: double (nullable = true)\n",
      " |-- 9: double (nullable = true)\n",
      " |-- 10: double (nullable = true)\n",
      " |-- Out: double (nullable = true)\n",
      " |-- _c28: string (nullable = true)\n",
      " |-- Win Conf: string (nullable = true)\n",
      " |-- Win Finals: string (nullable = true)\n",
      "\n"
     ]
    }
   ],
   "source": [
    "df_pyspark2.printSchema()"
   ]
  },
  {
   "cell_type": "code",
   "execution_count": 146,
   "id": "1163341d",
   "metadata": {},
   "outputs": [
    {
     "data": {
      "text/plain": [
       "pyspark.sql.dataframe.DataFrame"
      ]
     },
     "execution_count": 146,
     "metadata": {},
     "output_type": "execute_result"
    }
   ],
   "source": [
    "type(df_pyspark2) #dataframe is data structure"
   ]
  },
  {
   "cell_type": "code",
   "execution_count": 147,
   "id": "dc7c4045",
   "metadata": {},
   "outputs": [
    {
     "data": {
      "text/plain": [
       "['Western Conference',\n",
       " 'W',\n",
       " 'L',\n",
       " 'W/L%',\n",
       " 'SOS',\n",
       " 'rSOS',\n",
       " 'SRS',\n",
       " 'Current',\n",
       " 'Remain',\n",
       " 'Best',\n",
       " 'Worst',\n",
       " 'Playoffs',\n",
       " 'Division',\n",
       " '1',\n",
       " '2',\n",
       " '3',\n",
       " '4',\n",
       " '5',\n",
       " '6',\n",
       " '719',\n",
       " '820',\n",
       " '_c21',\n",
       " '1-6',\n",
       " '723',\n",
       " '824',\n",
       " '9',\n",
       " '10',\n",
       " 'Out',\n",
       " '_c28',\n",
       " 'Win Conf',\n",
       " 'Win Finals']"
      ]
     },
     "execution_count": 147,
     "metadata": {},
     "output_type": "execute_result"
    }
   ],
   "source": [
    "df_pyspark2.columns"
   ]
  },
  {
   "cell_type": "code",
   "execution_count": 149,
   "id": "1fe209fb",
   "metadata": {},
   "outputs": [
    {
     "name": "stdout",
     "output_type": "stream",
     "text": [
      "+--------+\n",
      "|Playoffs|\n",
      "+--------+\n",
      "|  100.0%|\n",
      "|  100.0%|\n",
      "|   98.9%|\n",
      "|   95.6%|\n",
      "|   92.1%|\n",
      "|   80.8%|\n",
      "|   76.2%|\n",
      "|   44.4%|\n",
      "|   38.8%|\n",
      "|   33.7%|\n",
      "|   21.7%|\n",
      "|   12.1%|\n",
      "|    2.6%|\n",
      "|    2.5%|\n",
      "|    0.6%|\n",
      "+--------+\n",
      "\n"
     ]
    }
   ],
   "source": [
    "df_pyspark2.select('Playoffs').show()"
   ]
  },
  {
   "cell_type": "code",
   "execution_count": 150,
   "id": "a8487d3a",
   "metadata": {},
   "outputs": [
    {
     "name": "stdout",
     "output_type": "stream",
     "text": [
      "+-----+-----+\n",
      "| Best|Worst|\n",
      "+-----+-----+\n",
      "|68-12|37-43|\n",
      "|67-13|37-43|\n",
      "|61-19|32-48|\n",
      "|58-22|27-53|\n",
      "|58-22|28-52|\n",
      "|56-24|26-54|\n",
      "|55-25|23-57|\n",
      "|55-25|21-59|\n",
      "|52-28|21-59|\n",
      "|50-30|21-59|\n",
      "|50-30|19-61|\n",
      "|48-32|18-62|\n",
      "|44-36|16-64|\n",
      "|44-36|15-65|\n",
      "|42-38|13-67|\n",
      "+-----+-----+\n",
      "\n"
     ]
    }
   ],
   "source": [
    "df_pyspark2.select(['Best','Worst']).show()"
   ]
  },
  {
   "cell_type": "code",
   "execution_count": 151,
   "id": "515338e9",
   "metadata": {},
   "outputs": [
    {
     "data": {
      "text/plain": [
       "Column<'Best'>"
      ]
     },
     "execution_count": 151,
     "metadata": {},
     "output_type": "execute_result"
    }
   ],
   "source": [
    "df_pyspark2['Best']"
   ]
  },
  {
   "cell_type": "code",
   "execution_count": 152,
   "id": "441e5d3e",
   "metadata": {},
   "outputs": [
    {
     "ename": "TypeError",
     "evalue": "'Column' object is not callable",
     "output_type": "error",
     "traceback": [
      "\u001b[1;31m---------------------------------------------------------------------------\u001b[0m",
      "\u001b[1;31mTypeError\u001b[0m                                 Traceback (most recent call last)",
      "\u001b[1;32m~\\AppData\\Local\\Temp/ipykernel_7744/3690300693.py\u001b[0m in \u001b[0;36m<module>\u001b[1;34m\u001b[0m\n\u001b[1;32m----> 1\u001b[1;33m \u001b[0mdf_pyspark2\u001b[0m\u001b[1;33m[\u001b[0m\u001b[1;34m'Best'\u001b[0m\u001b[1;33m]\u001b[0m\u001b[1;33m.\u001b[0m\u001b[0mshow\u001b[0m\u001b[1;33m(\u001b[0m\u001b[1;33m)\u001b[0m\u001b[1;33m\u001b[0m\u001b[1;33m\u001b[0m\u001b[0m\n\u001b[0m",
      "\u001b[1;31mTypeError\u001b[0m: 'Column' object is not callable"
     ]
    }
   ],
   "source": [
    "df_pyspark2['Best'].show()"
   ]
  },
  {
   "cell_type": "code",
   "execution_count": 153,
   "id": "5bc8c47c",
   "metadata": {},
   "outputs": [
    {
     "data": {
      "text/plain": [
       "[('Western Conference', 'string'),\n",
       " ('W', 'double'),\n",
       " ('L', 'double'),\n",
       " ('W/L%', 'double'),\n",
       " ('SOS', 'double'),\n",
       " ('rSOS', 'double'),\n",
       " ('SRS', 'double'),\n",
       " ('Current', 'string'),\n",
       " ('Remain', 'string'),\n",
       " ('Best', 'string'),\n",
       " ('Worst', 'string'),\n",
       " ('Playoffs', 'string'),\n",
       " ('Division', 'string'),\n",
       " ('1', 'double'),\n",
       " ('2', 'double'),\n",
       " ('3', 'double'),\n",
       " ('4', 'double'),\n",
       " ('5', 'double'),\n",
       " ('6', 'double'),\n",
       " ('719', 'double'),\n",
       " ('820', 'double'),\n",
       " ('_c21', 'string'),\n",
       " ('1-6', 'double'),\n",
       " ('723', 'double'),\n",
       " ('824', 'double'),\n",
       " ('9', 'double'),\n",
       " ('10', 'double'),\n",
       " ('Out', 'double'),\n",
       " ('_c28', 'string'),\n",
       " ('Win Conf', 'string'),\n",
       " ('Win Finals', 'string')]"
      ]
     },
     "execution_count": 153,
     "metadata": {},
     "output_type": "execute_result"
    }
   ],
   "source": [
    "df_pyspark2.dtypes"
   ]
  },
  {
   "cell_type": "code",
   "execution_count": 154,
   "id": "b4cde649",
   "metadata": {},
   "outputs": [
    {
     "data": {
      "text/plain": [
       "DataFrame[summary: string, Western Conference: string, W: string, L: string, W/L%: string, SOS: string, rSOS: string, SRS: string, Current: string, Remain: string, Best: string, Worst: string, Playoffs: string, Division: string, 1: string, 2: string, 3: string, 4: string, 5: string, 6: string, 719: string, 820: string, _c21: string, 1-6: string, 723: string, 824: string, 9: string, 10: string, Out: string, _c28: string, Win Conf: string, Win Finals: string]"
      ]
     },
     "execution_count": 154,
     "metadata": {},
     "output_type": "execute_result"
    }
   ],
   "source": [
    "df_pyspark2.describe()"
   ]
  },
  {
   "cell_type": "code",
   "execution_count": 155,
   "id": "bc2375fa",
   "metadata": {},
   "outputs": [
    {
     "name": "stdout",
     "output_type": "stream",
     "text": [
      "+-------+------------------+-----------------+-----------------+-------------------+-------------------+--------------------+-----------------+-------+------+-----+-----+--------+--------+------------------+------------------+-----------------+----------------+-----------------+-----------------+-----------------+-----------------+----+------------------+-----------------+-----------------+------------------+-----------------+-----------------+----+--------+----------+\n",
      "|summary|Western Conference|                W|                L|               W/L%|                SOS|                rSOS|              SRS|Current|Remain| Best|Worst|Playoffs|Division|                 1|                 2|                3|               4|                5|                6|              719|              820|_c21|               1-6|              723|              824|                 9|               10|              Out|_c28|Win Conf|Win Finals|\n",
      "+-------+------------------+-----------------+-----------------+-------------------+-------------------+--------------------+-----------------+-------+------+-----+-----+--------+--------+------------------+------------------+-----------------+----------------+-----------------+-----------------+-----------------+-----------------+----+------------------+-----------------+-----------------+------------------+-----------------+-----------------+----+--------+----------+\n",
      "|  count|                15|               15|               15|                 15|                 15|                  15|               15|     15|    15|   15|   15|      15|      11|                 7|                 9|               11|              12|               13|               15|               15|               15|   0|                15|               15|               14|                13|               13|               13|   0|      12|         9|\n",
      "|   mean|              NULL|             38.9|             41.1|0.48599999999999993|-0.9226666666666666|-0.22200000000000003|           -1.398|   NULL|  NULL| NULL| NULL|    NULL|    NULL|14.285714285714283|11.111111111111107|9.090909090909092|           8.325|7.684615384615384|6.666666666666667|6.686666666666667|6.666666666666666|NULL|40.006666666666675|             6.66|             7.15|7.6923076923076925|7.707692307692307|38.46153846153846|NULL|    NULL|      NULL|\n",
      "| stddev|              NULL|8.202525743417606|8.202525743417606|0.10259420757806657| 1.8722197164506804| 0.39735194906854476|6.346577480365753|   NULL|  NULL| NULL| NULL|    NULL|    NULL|21.515763877633887| 13.93013320507421|9.887209368214526|8.81858832240172|8.000296468865612|6.958516535940141|6.075461965582378|5.809188124571855|NULL| 40.79852004785514|6.180360599743121|6.019807050319546| 6.142537686556691|6.231835141494777|37.03294790816997|NULL|    NULL|      NULL|\n",
      "|    min|  Dallas Mavericks|             26.5|             26.9|              0.331|              -3.75|               -0.96|            -9.68|    1-8| 25-46|42-38|13-67|    0.6%|    0.4%|               0.1|               0.1|              0.2|             0.1|              0.1|              0.1|              0.1|              0.1|NULL|               0.1|              0.1|              0.1|               0.5|              0.2|              0.1|NULL|    0.1%|      0.1%|\n",
      "|    max|         Utah Jazz|             53.1|             53.5|              0.664|               2.51|                0.42|             11.1|    8-1| 47-25|68-12|37-43|   98.9%|   74.9%|              50.9|              35.8|             31.2|            26.2|             22.7|             19.2|             17.2|             15.0|NULL|              99.9|             17.3|             15.3|              16.6|             16.0|             97.5|NULL|    7.3%|      3.1%|\n",
      "+-------+------------------+-----------------+-----------------+-------------------+-------------------+--------------------+-----------------+-------+------+-----+-----+--------+--------+------------------+------------------+-----------------+----------------+-----------------+-----------------+-----------------+-----------------+----+------------------+-----------------+-----------------+------------------+-----------------+-----------------+----+--------+----------+\n",
      "\n"
     ]
    }
   ],
   "source": [
    "df_pyspark2.describe().show()"
   ]
  },
  {
   "cell_type": "code",
   "execution_count": 156,
   "id": "3ccc3a47",
   "metadata": {},
   "outputs": [],
   "source": [
    "###adding column in dataframe"
   ]
  },
  {
   "cell_type": "code",
   "execution_count": 157,
   "id": "47c83dad",
   "metadata": {},
   "outputs": [],
   "source": [
    "df_pysparkx=df_pyspark2.withColumn('after two year',df_pyspark2['SRS']+2)"
   ]
  },
  {
   "cell_type": "code",
   "execution_count": 158,
   "id": "4aef6192",
   "metadata": {},
   "outputs": [
    {
     "data": {
      "text/plain": [
       "['Western Conference',\n",
       " 'W',\n",
       " 'L',\n",
       " 'W/L%',\n",
       " 'SOS',\n",
       " 'rSOS',\n",
       " 'SRS',\n",
       " 'Current',\n",
       " 'Remain',\n",
       " 'Best',\n",
       " 'Worst',\n",
       " 'Playoffs',\n",
       " 'Division',\n",
       " '1',\n",
       " '2',\n",
       " '3',\n",
       " '4',\n",
       " '5',\n",
       " '6',\n",
       " '719',\n",
       " '820',\n",
       " '_c21',\n",
       " '1-6',\n",
       " '723',\n",
       " '824',\n",
       " '9',\n",
       " '10',\n",
       " 'Out',\n",
       " '_c28',\n",
       " 'Win Conf',\n",
       " 'Win Finals',\n",
       " 'after two year']"
      ]
     },
     "execution_count": 158,
     "metadata": {},
     "output_type": "execute_result"
    }
   ],
   "source": [
    "df_pyspark2.withColumn('after two year',df_pyspark2['SRS']+2).columns"
   ]
  },
  {
   "cell_type": "code",
   "execution_count": 159,
   "id": "ec154180",
   "metadata": {},
   "outputs": [
    {
     "data": {
      "text/plain": [
       "['Western Conference',\n",
       " 'W',\n",
       " 'L',\n",
       " 'W/L%',\n",
       " 'SOS',\n",
       " 'rSOS',\n",
       " 'SRS',\n",
       " 'Current',\n",
       " 'Remain',\n",
       " 'Best',\n",
       " 'Worst',\n",
       " 'Playoffs',\n",
       " 'Division',\n",
       " '1',\n",
       " '2',\n",
       " '3',\n",
       " '4',\n",
       " '5',\n",
       " '6',\n",
       " '719',\n",
       " '820',\n",
       " '_c21',\n",
       " '1-6',\n",
       " '723',\n",
       " '824',\n",
       " '9',\n",
       " '10',\n",
       " 'Out',\n",
       " '_c28',\n",
       " 'Win Conf',\n",
       " 'Win Finals']"
      ]
     },
     "execution_count": 159,
     "metadata": {},
     "output_type": "execute_result"
    }
   ],
   "source": [
    "df_pyspark2.columns"
   ]
  },
  {
   "cell_type": "code",
   "execution_count": 160,
   "id": "5dd5bc8a",
   "metadata": {},
   "outputs": [
    {
     "data": {
      "text/plain": [
       "['Western Conference',\n",
       " 'W',\n",
       " 'L',\n",
       " 'W/L%',\n",
       " 'SOS',\n",
       " 'rSOS',\n",
       " 'SRS',\n",
       " 'Current',\n",
       " 'Remain',\n",
       " 'Best',\n",
       " 'Worst',\n",
       " 'Playoffs',\n",
       " 'Division',\n",
       " '1',\n",
       " '2',\n",
       " '3',\n",
       " '4',\n",
       " '5',\n",
       " '6',\n",
       " '719',\n",
       " '820',\n",
       " '_c21',\n",
       " '1-6',\n",
       " '723',\n",
       " '824',\n",
       " '9',\n",
       " '10',\n",
       " 'Out',\n",
       " '_c28',\n",
       " 'Win Conf',\n",
       " 'Win Finals',\n",
       " 'after two year']"
      ]
     },
     "execution_count": 160,
     "metadata": {},
     "output_type": "execute_result"
    }
   ],
   "source": [
    "df_pysparkx.columns"
   ]
  },
  {
   "cell_type": "code",
   "execution_count": 161,
   "id": "dffe0490",
   "metadata": {},
   "outputs": [],
   "source": [
    "#dropping the column\n",
    "df_pysparkx=df_pysparkx.drop('after two year')"
   ]
  },
  {
   "cell_type": "code",
   "execution_count": 163,
   "id": "4ac6fd18",
   "metadata": {},
   "outputs": [
    {
     "data": {
      "text/plain": [
       "['Western Conference',\n",
       " 'W',\n",
       " 'L',\n",
       " 'W/L%',\n",
       " 'SOS',\n",
       " 'rSOS',\n",
       " 'SRS',\n",
       " 'Current',\n",
       " 'Remain',\n",
       " 'Best',\n",
       " 'Worst',\n",
       " 'Playoffs',\n",
       " 'Division',\n",
       " '1',\n",
       " '2',\n",
       " '3',\n",
       " '4',\n",
       " '5',\n",
       " '6',\n",
       " '719',\n",
       " '820',\n",
       " '_c21',\n",
       " '1-6',\n",
       " '723',\n",
       " '824',\n",
       " '9',\n",
       " '10',\n",
       " 'Out',\n",
       " '_c28',\n",
       " 'Win Conf',\n",
       " 'Win Finals']"
      ]
     },
     "execution_count": 163,
     "metadata": {},
     "output_type": "execute_result"
    }
   ],
   "source": [
    "df_pysparkx.columns"
   ]
  },
  {
   "cell_type": "code",
   "execution_count": 185,
   "id": "fbff55ae",
   "metadata": {},
   "outputs": [],
   "source": [
    "df_pyspark5=df_pysparkx.withColumnRenamed('SRS','srs')"
   ]
  },
  {
   "cell_type": "code",
   "execution_count": 186,
   "id": "83ca54fa",
   "metadata": {},
   "outputs": [
    {
     "data": {
      "text/plain": [
       "['Western Conference',\n",
       " 'W',\n",
       " 'L',\n",
       " 'W/L%',\n",
       " 'SOS',\n",
       " 'rSOS',\n",
       " 'srs',\n",
       " 'Current',\n",
       " 'Remain',\n",
       " 'Best',\n",
       " 'Worst',\n",
       " 'Playoffs',\n",
       " 'Division',\n",
       " '1',\n",
       " '2',\n",
       " '3',\n",
       " '4',\n",
       " '5',\n",
       " '6',\n",
       " '719',\n",
       " '820',\n",
       " '_c21',\n",
       " '1-6',\n",
       " '723',\n",
       " '824',\n",
       " '9',\n",
       " '10',\n",
       " 'Out',\n",
       " '_c28',\n",
       " 'Win Conf',\n",
       " 'Win Finals']"
      ]
     },
     "execution_count": 186,
     "metadata": {},
     "output_type": "execute_result"
    }
   ],
   "source": [
    "df_pyspark5.columns"
   ]
  },
  {
   "cell_type": "code",
   "execution_count": 187,
   "id": "eba78de7",
   "metadata": {},
   "outputs": [],
   "source": [
    "df_pyspark5=df_pyspark5.drop('srs')"
   ]
  },
  {
   "cell_type": "code",
   "execution_count": 188,
   "id": "48efa446",
   "metadata": {},
   "outputs": [
    {
     "data": {
      "text/plain": [
       "['Western Conference',\n",
       " 'W',\n",
       " 'L',\n",
       " 'W/L%',\n",
       " 'SOS',\n",
       " 'rSOS',\n",
       " 'Current',\n",
       " 'Remain',\n",
       " 'Best',\n",
       " 'Worst',\n",
       " 'Playoffs',\n",
       " 'Division',\n",
       " '1',\n",
       " '2',\n",
       " '3',\n",
       " '4',\n",
       " '5',\n",
       " '6',\n",
       " '719',\n",
       " '820',\n",
       " '_c21',\n",
       " '1-6',\n",
       " '723',\n",
       " '824',\n",
       " '9',\n",
       " '10',\n",
       " 'Out',\n",
       " '_c28',\n",
       " 'Win Conf',\n",
       " 'Win Finals']"
      ]
     },
     "execution_count": 188,
     "metadata": {},
     "output_type": "execute_result"
    }
   ],
   "source": [
    "df_pyspark5.columns"
   ]
  },
  {
   "cell_type": "code",
   "execution_count": 189,
   "id": "518c2119",
   "metadata": {},
   "outputs": [
    {
     "name": "stdout",
     "output_type": "stream",
     "text": [
      "+------------------+---+---+----+---+----+-------+------+----+-----+--------+--------+---+---+---+---+---+---+---+---+----+---+---+---+---+---+---+----+--------+----------+\n",
      "|Western Conference|  W|  L|W/L%|SOS|rSOS|Current|Remain|Best|Worst|Playoffs|Division|  1|  2|  3|  4|  5|  6|719|820|_c21|1-6|723|824|  9| 10|Out|_c28|Win Conf|Win Finals|\n",
      "+------------------+---+---+----+---+----+-------+------+----+-----+--------+--------+---+---+---+---+---+---+---+---+----+---+---+---+---+---+---+----+--------+----------+\n",
      "+------------------+---+---+----+---+----+-------+------+----+-----+--------+--------+---+---+---+---+---+---+---+---+----+---+---+---+---+---+---+----+--------+----------+\n",
      "\n"
     ]
    }
   ],
   "source": [
    "df_pyspark5.na.drop().show()"
   ]
  },
  {
   "cell_type": "code",
   "execution_count": 190,
   "id": "2947b3fc",
   "metadata": {},
   "outputs": [
    {
     "name": "stdout",
     "output_type": "stream",
     "text": [
      "+--------------------+----+----+-----+-----+-----+-------+------+-----+-----+--------+--------+----+----+----+----+----+----+----+----+----+----+----+----+----+----+----+----+--------+----------+\n",
      "|  Western Conference|   W|   L| W/L%|  SOS| rSOS|Current|Remain| Best|Worst|Playoffs|Division|   1|   2|   3|   4|   5|   6| 719| 820|_c21| 1-6| 723| 824|   9|  10| Out|_c28|Win Conf|Win Finals|\n",
      "+--------------------+----+----+-----+-----+-----+-------+------+-----+-----+--------+--------+----+----+----+----+----+----+----+----+----+----+----+----+----+----+----+----+--------+----------+\n",
      "|Minnesota Timberw...|53.1|26.9|0.664| 0.98|-0.96|    6-2| 47-25|68-12|37-43|  100.0%|   56.4%|50.9|30.4|13.0| 3.8| 1.4| 0.4| 0.1| 0.1|NULL|99.9| 0.1|NULL|NULL|NULL|NULL|NULL|   39.1%|     16.8%|\n",
      "|      Denver Nuggets|52.4|27.6|0.655|-1.56|-0.73|    8-1| 44-27|67-13|37-43|  100.0%|   43.3%|39.6|35.8|16.0| 5.9| 1.9| 0.6| 0.2| 0.1|NULL|99.7| 0.2| 0.1|NULL|NULL|NULL|NULL|   29.1%|     11.2%|\n",
      "|    Dallas Mavericks|47.5|32.5|0.593|-1.51|-0.39|    7-2| 40-31|61-19|32-48|   98.9%|   74.9%| 6.6|19.5|31.2|19.3|12.0| 6.3| 2.8| 1.3|NULL|94.9| 3.1| 1.2| 0.5| 0.2| 0.1|NULL|   11.9%|      3.1%|\n",
      "|Golden State Warr...|44.6|35.4|0.558|-0.85|-0.46|    6-4| 39-31|58-22|27-53|   95.6%|   69.9%| 1.6| 7.4|17.8|26.2|19.3|12.4| 6.9| 3.9|NULL|84.7| 7.8| 4.1| 1.9| 0.9| 0.7|NULL|    7.3%|      1.5%|\n",
      "|     Houston Rockets|43.5|36.5|0.543|-3.49|-0.52|    5-3| 38-34|58-22|28-52|   92.1%|   24.3%| 1.0| 4.5|11.3|19.4|22.7|17.0|10.0| 6.2|NULL|75.9|11.4| 6.0| 3.6| 1.9| 1.2|NULL|    5.2%|      1.1%|\n",
      "|Oklahoma City Thu...|41.3|38.7|0.516|-0.29|-0.35|    5-4| 36-35|56-24|26-54|   80.8%|    0.4%| 0.2| 1.1| 5.2|10.5|16.5|19.2|15.7|12.4|NULL|52.7|17.3|12.6| 8.0| 4.6| 4.7|NULL|    2.8%|      0.6%|\n",
      "|Los Angeles Clippers|40.4|39.6|0.504| -2.0|-0.31|    3-5| 37-35|55-25|23-57|   76.2%|   19.7%| 0.1| 1.1| 4.0| 9.1|13.6|18.2|17.2|12.8|NULL|46.2|17.3|14.2| 9.3| 6.2| 6.8|NULL|    3.1%|      0.6%|\n",
      "|        Phoenix Suns|36.9|43.1|0.462|-3.75|-0.04|    4-5| 33-38|55-25|21-59|   44.4%|    5.3%|NULL| 0.1| 0.6| 2.4| 4.6| 8.5|13.5|14.7|NULL|16.3|12.2|15.3|16.1|13.9|26.2|NULL|    0.6%|      0.1%|\n",
      "|    Sacramento Kings|36.2|43.8|0.452|-1.34| 0.13|    4-4| 32-40|52-28|21-59|   38.8%|    3.6%|NULL| 0.1| 0.4| 1.5| 3.4| 6.6|11.9|15.0|NULL|12.0|10.9|14.7|16.6|16.0|29.8|NULL|    0.5%|      0.1%|\n",
      "|New Orleans Pelicans|35.7|44.3|0.446| 2.07|-0.49|    4-5| 32-39|50-30|21-59|   33.7%|    0.9%|NULL|NULL| 0.3| 1.0| 2.5| 5.8|10.5|13.6|NULL| 9.7| 9.4|14.1|15.7|15.9|35.3|NULL|    0.3%|      NULL|\n",
      "|  Los Angeles Lakers|34.3|45.7|0.428| 0.59|-0.07|    4-5| 30-41|50-30|19-61|   21.7%|    1.5%|NULL|NULL| 0.2| 0.7| 1.4| 3.2| 6.5| 9.6|NULL| 5.5| 5.9| 9.4|13.5|16.0|49.8|NULL|    0.1%|      NULL|\n",
      "|Portland Trail Bl...|32.6|47.4|0.407|-1.51| 0.24|    3-5| 30-42|48-32|18-62|   12.1%|    NULL|NULL|NULL|NULL| 0.1| 0.5| 1.4| 3.5| 6.5|NULL| 2.1| 3.1| 5.6| 8.7|12.6|67.9|NULL|    0.1%|      NULL|\n",
      "|   San Antonio Spurs|29.4|50.6|0.367| 2.51|-0.15|    3-6| 26-45|44-36|16-64|    2.6%|    NULL|NULL|NULL|NULL|NULL| 0.1| 0.1| 0.7| 1.7|NULL| 0.2| 0.6| 1.4| 2.8| 5.5|89.5|NULL|    NULL|      NULL|\n",
      "|           Utah Jazz|29.1|50.9|0.364|-0.56| 0.35|    3-7| 26-44|44-36|15-65|    2.5%|    NULL|NULL|NULL|NULL|NULL|NULL| 0.2| 0.7| 1.6|NULL| 0.2| 0.5| 1.2| 2.7| 5.0|90.5|NULL|    NULL|      NULL|\n",
      "|   Memphis Grizzlies|26.5|53.5|0.331|-3.13| 0.42|    1-8| 25-46|42-38|13-67|    0.6%|    NULL|NULL|NULL|NULL|NULL|NULL| 0.1| 0.1| 0.5|NULL| 0.1| 0.1| 0.2| 0.6| 1.5|97.5|NULL|    NULL|      NULL|\n",
      "+--------------------+----+----+-----+-----+-----+-------+------+-----+-----+--------+--------+----+----+----+----+----+----+----+----+----+----+----+----+----+----+----+----+--------+----------+\n",
      "\n"
     ]
    }
   ],
   "source": [
    "df_pyspark5.na.drop(how='all').show() #drop rows having 'all' null values"
   ]
  },
  {
   "cell_type": "code",
   "execution_count": 191,
   "id": "11381553",
   "metadata": {},
   "outputs": [
    {
     "name": "stdout",
     "output_type": "stream",
     "text": [
      "+------------------+---+---+----+---+----+-------+------+----+-----+--------+--------+---+---+---+---+---+---+---+---+----+---+---+---+---+---+---+----+--------+----------+\n",
      "|Western Conference|  W|  L|W/L%|SOS|rSOS|Current|Remain|Best|Worst|Playoffs|Division|  1|  2|  3|  4|  5|  6|719|820|_c21|1-6|723|824|  9| 10|Out|_c28|Win Conf|Win Finals|\n",
      "+------------------+---+---+----+---+----+-------+------+----+-----+--------+--------+---+---+---+---+---+---+---+---+----+---+---+---+---+---+---+----+--------+----------+\n",
      "+------------------+---+---+----+---+----+-------+------+----+-----+--------+--------+---+---+---+---+---+---+---+---+----+---+---+---+---+---+---+----+--------+----------+\n",
      "\n"
     ]
    }
   ],
   "source": [
    "df_pyspark5.na.drop(how='any').show() #drop rows if any null value"
   ]
  },
  {
   "cell_type": "code",
   "execution_count": 192,
   "id": "7dc861df",
   "metadata": {},
   "outputs": [
    {
     "name": "stdout",
     "output_type": "stream",
     "text": [
      "+--------------------+----+----+-----+-----+-----+-------+------+-----+-----+--------+--------+----+----+----+----+----+----+----+----+----+----+----+----+----+----+----+----+--------+----------+\n",
      "|  Western Conference|   W|   L| W/L%|  SOS| rSOS|Current|Remain| Best|Worst|Playoffs|Division|   1|   2|   3|   4|   5|   6| 719| 820|_c21| 1-6| 723| 824|   9|  10| Out|_c28|Win Conf|Win Finals|\n",
      "+--------------------+----+----+-----+-----+-----+-------+------+-----+-----+--------+--------+----+----+----+----+----+----+----+----+----+----+----+----+----+----+----+----+--------+----------+\n",
      "|Minnesota Timberw...|53.1|26.9|0.664| 0.98|-0.96|    6-2| 47-25|68-12|37-43|  100.0%|   56.4%|50.9|30.4|13.0| 3.8| 1.4| 0.4| 0.1| 0.1|NULL|99.9| 0.1|NULL|NULL|NULL|NULL|NULL|   39.1%|     16.8%|\n",
      "|      Denver Nuggets|52.4|27.6|0.655|-1.56|-0.73|    8-1| 44-27|67-13|37-43|  100.0%|   43.3%|39.6|35.8|16.0| 5.9| 1.9| 0.6| 0.2| 0.1|NULL|99.7| 0.2| 0.1|NULL|NULL|NULL|NULL|   29.1%|     11.2%|\n",
      "|    Dallas Mavericks|47.5|32.5|0.593|-1.51|-0.39|    7-2| 40-31|61-19|32-48|   98.9%|   74.9%| 6.6|19.5|31.2|19.3|12.0| 6.3| 2.8| 1.3|NULL|94.9| 3.1| 1.2| 0.5| 0.2| 0.1|NULL|   11.9%|      3.1%|\n",
      "|Golden State Warr...|44.6|35.4|0.558|-0.85|-0.46|    6-4| 39-31|58-22|27-53|   95.6%|   69.9%| 1.6| 7.4|17.8|26.2|19.3|12.4| 6.9| 3.9|NULL|84.7| 7.8| 4.1| 1.9| 0.9| 0.7|NULL|    7.3%|      1.5%|\n",
      "|     Houston Rockets|43.5|36.5|0.543|-3.49|-0.52|    5-3| 38-34|58-22|28-52|   92.1%|   24.3%| 1.0| 4.5|11.3|19.4|22.7|17.0|10.0| 6.2|NULL|75.9|11.4| 6.0| 3.6| 1.9| 1.2|NULL|    5.2%|      1.1%|\n",
      "|Oklahoma City Thu...|41.3|38.7|0.516|-0.29|-0.35|    5-4| 36-35|56-24|26-54|   80.8%|    0.4%| 0.2| 1.1| 5.2|10.5|16.5|19.2|15.7|12.4|NULL|52.7|17.3|12.6| 8.0| 4.6| 4.7|NULL|    2.8%|      0.6%|\n",
      "|Los Angeles Clippers|40.4|39.6|0.504| -2.0|-0.31|    3-5| 37-35|55-25|23-57|   76.2%|   19.7%| 0.1| 1.1| 4.0| 9.1|13.6|18.2|17.2|12.8|NULL|46.2|17.3|14.2| 9.3| 6.2| 6.8|NULL|    3.1%|      0.6%|\n",
      "|        Phoenix Suns|36.9|43.1|0.462|-3.75|-0.04|    4-5| 33-38|55-25|21-59|   44.4%|    5.3%|NULL| 0.1| 0.6| 2.4| 4.6| 8.5|13.5|14.7|NULL|16.3|12.2|15.3|16.1|13.9|26.2|NULL|    0.6%|      0.1%|\n",
      "|    Sacramento Kings|36.2|43.8|0.452|-1.34| 0.13|    4-4| 32-40|52-28|21-59|   38.8%|    3.6%|NULL| 0.1| 0.4| 1.5| 3.4| 6.6|11.9|15.0|NULL|12.0|10.9|14.7|16.6|16.0|29.8|NULL|    0.5%|      0.1%|\n",
      "|New Orleans Pelicans|35.7|44.3|0.446| 2.07|-0.49|    4-5| 32-39|50-30|21-59|   33.7%|    0.9%|NULL|NULL| 0.3| 1.0| 2.5| 5.8|10.5|13.6|NULL| 9.7| 9.4|14.1|15.7|15.9|35.3|NULL|    0.3%|      NULL|\n",
      "|  Los Angeles Lakers|34.3|45.7|0.428| 0.59|-0.07|    4-5| 30-41|50-30|19-61|   21.7%|    1.5%|NULL|NULL| 0.2| 0.7| 1.4| 3.2| 6.5| 9.6|NULL| 5.5| 5.9| 9.4|13.5|16.0|49.8|NULL|    0.1%|      NULL|\n",
      "|Portland Trail Bl...|32.6|47.4|0.407|-1.51| 0.24|    3-5| 30-42|48-32|18-62|   12.1%|    NULL|NULL|NULL|NULL| 0.1| 0.5| 1.4| 3.5| 6.5|NULL| 2.1| 3.1| 5.6| 8.7|12.6|67.9|NULL|    0.1%|      NULL|\n",
      "|   San Antonio Spurs|29.4|50.6|0.367| 2.51|-0.15|    3-6| 26-45|44-36|16-64|    2.6%|    NULL|NULL|NULL|NULL|NULL| 0.1| 0.1| 0.7| 1.7|NULL| 0.2| 0.6| 1.4| 2.8| 5.5|89.5|NULL|    NULL|      NULL|\n",
      "|           Utah Jazz|29.1|50.9|0.364|-0.56| 0.35|    3-7| 26-44|44-36|15-65|    2.5%|    NULL|NULL|NULL|NULL|NULL|NULL| 0.2| 0.7| 1.6|NULL| 0.2| 0.5| 1.2| 2.7| 5.0|90.5|NULL|    NULL|      NULL|\n",
      "|   Memphis Grizzlies|26.5|53.5|0.331|-3.13| 0.42|    1-8| 25-46|42-38|13-67|    0.6%|    NULL|NULL|NULL|NULL|NULL|NULL| 0.1| 0.1| 0.5|NULL| 0.1| 0.1| 0.2| 0.6| 1.5|97.5|NULL|    NULL|      NULL|\n",
      "+--------------------+----+----+-----+-----+-----+-------+------+-----+-----+--------+--------+----+----+----+----+----+----+----+----+----+----+----+----+----+----+----+----+--------+----------+\n",
      "\n"
     ]
    }
   ],
   "source": [
    "#threshold\n",
    "df_pyspark5.na.drop(how='any',thresh=4).show() #atleast 4 null values- threshold we set"
   ]
  },
  {
   "cell_type": "code",
   "execution_count": 198,
   "id": "de3afb43",
   "metadata": {},
   "outputs": [
    {
     "name": "stdout",
     "output_type": "stream",
     "text": [
      "+--------------------+----+----+-----+-----+-----+-------+------+-----+-----+--------+--------+----+----+----+----+----+----+----+----+----+----+----+----+----+----+----+----+--------+----------+\n",
      "|  Western Conference|   W|   L| W/L%|  SOS| rSOS|Current|Remain| Best|Worst|Playoffs|Division|   1|   2|   3|   4|   5|   6| 719| 820|_c21| 1-6| 723| 824|   9|  10| Out|_c28|Win Conf|Win Finals|\n",
      "+--------------------+----+----+-----+-----+-----+-------+------+-----+-----+--------+--------+----+----+----+----+----+----+----+----+----+----+----+----+----+----+----+----+--------+----------+\n",
      "|Minnesota Timberw...|53.1|26.9|0.664| 0.98|-0.96|    6-2| 47-25|68-12|37-43|  100.0%|   56.4%|50.9|30.4|13.0| 3.8| 1.4| 0.4| 0.1| 0.1|NULL|99.9| 0.1|NULL|NULL|NULL|NULL|NULL|   39.1%|     16.8%|\n",
      "|      Denver Nuggets|52.4|27.6|0.655|-1.56|-0.73|    8-1| 44-27|67-13|37-43|  100.0%|   43.3%|39.6|35.8|16.0| 5.9| 1.9| 0.6| 0.2| 0.1|NULL|99.7| 0.2| 0.1|NULL|NULL|NULL|NULL|   29.1%|     11.2%|\n",
      "|    Dallas Mavericks|47.5|32.5|0.593|-1.51|-0.39|    7-2| 40-31|61-19|32-48|   98.9%|   74.9%| 6.6|19.5|31.2|19.3|12.0| 6.3| 2.8| 1.3|NULL|94.9| 3.1| 1.2| 0.5| 0.2| 0.1|NULL|   11.9%|      3.1%|\n",
      "|Golden State Warr...|44.6|35.4|0.558|-0.85|-0.46|    6-4| 39-31|58-22|27-53|   95.6%|   69.9%| 1.6| 7.4|17.8|26.2|19.3|12.4| 6.9| 3.9|NULL|84.7| 7.8| 4.1| 1.9| 0.9| 0.7|NULL|    7.3%|      1.5%|\n",
      "|     Houston Rockets|43.5|36.5|0.543|-3.49|-0.52|    5-3| 38-34|58-22|28-52|   92.1%|   24.3%| 1.0| 4.5|11.3|19.4|22.7|17.0|10.0| 6.2|NULL|75.9|11.4| 6.0| 3.6| 1.9| 1.2|NULL|    5.2%|      1.1%|\n",
      "|Oklahoma City Thu...|41.3|38.7|0.516|-0.29|-0.35|    5-4| 36-35|56-24|26-54|   80.8%|    0.4%| 0.2| 1.1| 5.2|10.5|16.5|19.2|15.7|12.4|NULL|52.7|17.3|12.6| 8.0| 4.6| 4.7|NULL|    2.8%|      0.6%|\n",
      "|Los Angeles Clippers|40.4|39.6|0.504| -2.0|-0.31|    3-5| 37-35|55-25|23-57|   76.2%|   19.7%| 0.1| 1.1| 4.0| 9.1|13.6|18.2|17.2|12.8|NULL|46.2|17.3|14.2| 9.3| 6.2| 6.8|NULL|    3.1%|      0.6%|\n",
      "|        Phoenix Suns|36.9|43.1|0.462|-3.75|-0.04|    4-5| 33-38|55-25|21-59|   44.4%|    5.3%|NULL| 0.1| 0.6| 2.4| 4.6| 8.5|13.5|14.7|NULL|16.3|12.2|15.3|16.1|13.9|26.2|NULL|    0.6%|      0.1%|\n",
      "|    Sacramento Kings|36.2|43.8|0.452|-1.34| 0.13|    4-4| 32-40|52-28|21-59|   38.8%|    3.6%|NULL| 0.1| 0.4| 1.5| 3.4| 6.6|11.9|15.0|NULL|12.0|10.9|14.7|16.6|16.0|29.8|NULL|    0.5%|      0.1%|\n",
      "|New Orleans Pelicans|35.7|44.3|0.446| 2.07|-0.49|    4-5| 32-39|50-30|21-59|   33.7%|    0.9%|NULL|NULL| 0.3| 1.0| 2.5| 5.8|10.5|13.6|NULL| 9.7| 9.4|14.1|15.7|15.9|35.3|NULL|    0.3%|      NULL|\n",
      "|  Los Angeles Lakers|34.3|45.7|0.428| 0.59|-0.07|    4-5| 30-41|50-30|19-61|   21.7%|    1.5%|NULL|NULL| 0.2| 0.7| 1.4| 3.2| 6.5| 9.6|NULL| 5.5| 5.9| 9.4|13.5|16.0|49.8|NULL|    0.1%|      NULL|\n",
      "|Portland Trail Bl...|32.6|47.4|0.407|-1.51| 0.24|    3-5| 30-42|48-32|18-62|   12.1%|    NULL|NULL|NULL|NULL| 0.1| 0.5| 1.4| 3.5| 6.5|NULL| 2.1| 3.1| 5.6| 8.7|12.6|67.9|NULL|    0.1%|      NULL|\n",
      "|   San Antonio Spurs|29.4|50.6|0.367| 2.51|-0.15|    3-6| 26-45|44-36|16-64|    2.6%|    NULL|NULL|NULL|NULL|NULL| 0.1| 0.1| 0.7| 1.7|NULL| 0.2| 0.6| 1.4| 2.8| 5.5|89.5|NULL|    NULL|      NULL|\n",
      "|           Utah Jazz|29.1|50.9|0.364|-0.56| 0.35|    3-7| 26-44|44-36|15-65|    2.5%|    NULL|NULL|NULL|NULL|NULL|NULL| 0.2| 0.7| 1.6|NULL| 0.2| 0.5| 1.2| 2.7| 5.0|90.5|NULL|    NULL|      NULL|\n",
      "|   Memphis Grizzlies|26.5|53.5|0.331|-3.13| 0.42|    1-8| 25-46|42-38|13-67|    0.6%|    NULL|NULL|NULL|NULL|NULL|NULL| 0.1| 0.1| 0.5|NULL| 0.1| 0.1| 0.2| 0.6| 1.5|97.5|NULL|    NULL|      NULL|\n",
      "+--------------------+----+----+-----+-----+-----+-------+------+-----+-----+--------+--------+----+----+----+----+----+----+----+----+----+----+----+----+----+----+----+----+--------+----------+\n",
      "\n"
     ]
    }
   ],
   "source": [
    "df_pyspark5.na.drop(how='any',thresh=6).show()"
   ]
  },
  {
   "cell_type": "code",
   "execution_count": 199,
   "id": "0cedb584",
   "metadata": {},
   "outputs": [
    {
     "name": "stdout",
     "output_type": "stream",
     "text": [
      "+--------------------+----+----+-----+-----+-----+-------+------+-----+-----+--------+--------+----+----+----+----+----+----+----+----+----+----+----+----+----+----+----+----+--------+----------+\n",
      "|  Western Conference|   W|   L| W/L%|  SOS| rSOS|Current|Remain| Best|Worst|Playoffs|Division|   1|   2|   3|   4|   5|   6| 719| 820|_c21| 1-6| 723| 824|   9|  10| Out|_c28|Win Conf|Win Finals|\n",
      "+--------------------+----+----+-----+-----+-----+-------+------+-----+-----+--------+--------+----+----+----+----+----+----+----+----+----+----+----+----+----+----+----+----+--------+----------+\n",
      "|Minnesota Timberw...|53.1|26.9|0.664| 0.98|-0.96|    6-2| 47-25|68-12|37-43|  100.0%|   56.4%|50.9|30.4|13.0| 3.8| 1.4| 0.4| 0.1| 0.1|NULL|99.9| 0.1|NULL|NULL|NULL|NULL|NULL|   39.1%|     16.8%|\n",
      "|      Denver Nuggets|52.4|27.6|0.655|-1.56|-0.73|    8-1| 44-27|67-13|37-43|  100.0%|   43.3%|39.6|35.8|16.0| 5.9| 1.9| 0.6| 0.2| 0.1|NULL|99.7| 0.2| 0.1|NULL|NULL|NULL|NULL|   29.1%|     11.2%|\n",
      "|    Dallas Mavericks|47.5|32.5|0.593|-1.51|-0.39|    7-2| 40-31|61-19|32-48|   98.9%|   74.9%| 6.6|19.5|31.2|19.3|12.0| 6.3| 2.8| 1.3|NULL|94.9| 3.1| 1.2| 0.5| 0.2| 0.1|NULL|   11.9%|      3.1%|\n",
      "|Golden State Warr...|44.6|35.4|0.558|-0.85|-0.46|    6-4| 39-31|58-22|27-53|   95.6%|   69.9%| 1.6| 7.4|17.8|26.2|19.3|12.4| 6.9| 3.9|NULL|84.7| 7.8| 4.1| 1.9| 0.9| 0.7|NULL|    7.3%|      1.5%|\n",
      "|     Houston Rockets|43.5|36.5|0.543|-3.49|-0.52|    5-3| 38-34|58-22|28-52|   92.1%|   24.3%| 1.0| 4.5|11.3|19.4|22.7|17.0|10.0| 6.2|NULL|75.9|11.4| 6.0| 3.6| 1.9| 1.2|NULL|    5.2%|      1.1%|\n",
      "|Oklahoma City Thu...|41.3|38.7|0.516|-0.29|-0.35|    5-4| 36-35|56-24|26-54|   80.8%|    0.4%| 0.2| 1.1| 5.2|10.5|16.5|19.2|15.7|12.4|NULL|52.7|17.3|12.6| 8.0| 4.6| 4.7|NULL|    2.8%|      0.6%|\n",
      "|Los Angeles Clippers|40.4|39.6|0.504| -2.0|-0.31|    3-5| 37-35|55-25|23-57|   76.2%|   19.7%| 0.1| 1.1| 4.0| 9.1|13.6|18.2|17.2|12.8|NULL|46.2|17.3|14.2| 9.3| 6.2| 6.8|NULL|    3.1%|      0.6%|\n",
      "|        Phoenix Suns|36.9|43.1|0.462|-3.75|-0.04|    4-5| 33-38|55-25|21-59|   44.4%|    5.3%|NULL| 0.1| 0.6| 2.4| 4.6| 8.5|13.5|14.7|NULL|16.3|12.2|15.3|16.1|13.9|26.2|NULL|    0.6%|      0.1%|\n",
      "|    Sacramento Kings|36.2|43.8|0.452|-1.34| 0.13|    4-4| 32-40|52-28|21-59|   38.8%|    3.6%|NULL| 0.1| 0.4| 1.5| 3.4| 6.6|11.9|15.0|NULL|12.0|10.9|14.7|16.6|16.0|29.8|NULL|    0.5%|      0.1%|\n",
      "|New Orleans Pelicans|35.7|44.3|0.446| 2.07|-0.49|    4-5| 32-39|50-30|21-59|   33.7%|    0.9%|NULL|NULL| 0.3| 1.0| 2.5| 5.8|10.5|13.6|NULL| 9.7| 9.4|14.1|15.7|15.9|35.3|NULL|    0.3%|      NULL|\n",
      "|  Los Angeles Lakers|34.3|45.7|0.428| 0.59|-0.07|    4-5| 30-41|50-30|19-61|   21.7%|    1.5%|NULL|NULL| 0.2| 0.7| 1.4| 3.2| 6.5| 9.6|NULL| 5.5| 5.9| 9.4|13.5|16.0|49.8|NULL|    0.1%|      NULL|\n",
      "|Portland Trail Bl...|32.6|47.4|0.407|-1.51| 0.24|    3-5| 30-42|48-32|18-62|   12.1%|    NULL|NULL|NULL|NULL| 0.1| 0.5| 1.4| 3.5| 6.5|NULL| 2.1| 3.1| 5.6| 8.7|12.6|67.9|NULL|    0.1%|      NULL|\n",
      "|   San Antonio Spurs|29.4|50.6|0.367| 2.51|-0.15|    3-6| 26-45|44-36|16-64|    2.6%|    NULL|NULL|NULL|NULL|NULL| 0.1| 0.1| 0.7| 1.7|NULL| 0.2| 0.6| 1.4| 2.8| 5.5|89.5|NULL|    NULL|      NULL|\n",
      "+--------------------+----+----+-----+-----+-----+-------+------+-----+-----+--------+--------+----+----+----+----+----+----+----+----+----+----+----+----+----+----+----+----+--------+----------+\n",
      "\n"
     ]
    }
   ],
   "source": [
    "#subset\n",
    "df_pyspark5.na.drop(how='any',subset=['5']).show() #specify a particular column to delete row"
   ]
  },
  {
   "cell_type": "code",
   "execution_count": 210,
   "id": "3a8cb2aa",
   "metadata": {},
   "outputs": [],
   "source": [
    "df_pyspark6=df_pyspark5.na.fill('missing value')"
   ]
  },
  {
   "cell_type": "code",
   "execution_count": 212,
   "id": "3d0ba995",
   "metadata": {},
   "outputs": [
    {
     "name": "stdout",
     "output_type": "stream",
     "text": [
      "+--------------------+----+----+-----+-----+-----+-------+------+-----+-----+--------+-------------+----+----+----+----+----+----+----+----+-------------+----+----+----+----+----+----+-------------+-------------+-------------+------------------+------------------+-----------------+---------+-----------------+\n",
      "|  Western Conference|   W|   L| W/L%|  SOS| rSOS|Current|Remain| Best|Worst|Playoffs|     Division|   1|   2|   3|   4|   5|   6| 719| 820|         _c21| 1-6| 723| 824|   9|  10| Out|         _c28|     Win Conf|   Win Finals|         1_imputed|         2_imputed|        3_imputed|4_imputed|        5_imputed|\n",
      "+--------------------+----+----+-----+-----+-----+-------+------+-----+-----+--------+-------------+----+----+----+----+----+----+----+----+-------------+----+----+----+----+----+----+-------------+-------------+-------------+------------------+------------------+-----------------+---------+-----------------+\n",
      "|Minnesota Timberw...|53.1|26.9|0.664| 0.98|-0.96|    6-2| 47-25|68-12|37-43|  100.0%|        56.4%|50.9|30.4|13.0| 3.8| 1.4| 0.4| 0.1| 0.1|missing value|99.9| 0.1|NULL|NULL|NULL|NULL|missing value|        39.1%|        16.8%|              50.9|              30.4|             13.0|      3.8|              1.4|\n",
      "|      Denver Nuggets|52.4|27.6|0.655|-1.56|-0.73|    8-1| 44-27|67-13|37-43|  100.0%|        43.3%|39.6|35.8|16.0| 5.9| 1.9| 0.6| 0.2| 0.1|missing value|99.7| 0.2| 0.1|NULL|NULL|NULL|missing value|        29.1%|        11.2%|              39.6|              35.8|             16.0|      5.9|              1.9|\n",
      "|    Dallas Mavericks|47.5|32.5|0.593|-1.51|-0.39|    7-2| 40-31|61-19|32-48|   98.9%|        74.9%| 6.6|19.5|31.2|19.3|12.0| 6.3| 2.8| 1.3|missing value|94.9| 3.1| 1.2| 0.5| 0.2| 0.1|missing value|        11.9%|         3.1%|               6.6|              19.5|             31.2|     19.3|             12.0|\n",
      "|Golden State Warr...|44.6|35.4|0.558|-0.85|-0.46|    6-4| 39-31|58-22|27-53|   95.6%|        69.9%| 1.6| 7.4|17.8|26.2|19.3|12.4| 6.9| 3.9|missing value|84.7| 7.8| 4.1| 1.9| 0.9| 0.7|missing value|         7.3%|         1.5%|               1.6|               7.4|             17.8|     26.2|             19.3|\n",
      "|     Houston Rockets|43.5|36.5|0.543|-3.49|-0.52|    5-3| 38-34|58-22|28-52|   92.1%|        24.3%| 1.0| 4.5|11.3|19.4|22.7|17.0|10.0| 6.2|missing value|75.9|11.4| 6.0| 3.6| 1.9| 1.2|missing value|         5.2%|         1.1%|               1.0|               4.5|             11.3|     19.4|             22.7|\n",
      "|Oklahoma City Thu...|41.3|38.7|0.516|-0.29|-0.35|    5-4| 36-35|56-24|26-54|   80.8%|         0.4%| 0.2| 1.1| 5.2|10.5|16.5|19.2|15.7|12.4|missing value|52.7|17.3|12.6| 8.0| 4.6| 4.7|missing value|         2.8%|         0.6%|               0.2|               1.1|              5.2|     10.5|             16.5|\n",
      "|Los Angeles Clippers|40.4|39.6|0.504| -2.0|-0.31|    3-5| 37-35|55-25|23-57|   76.2%|        19.7%| 0.1| 1.1| 4.0| 9.1|13.6|18.2|17.2|12.8|missing value|46.2|17.3|14.2| 9.3| 6.2| 6.8|missing value|         3.1%|         0.6%|               0.1|               1.1|              4.0|      9.1|             13.6|\n",
      "|        Phoenix Suns|36.9|43.1|0.462|-3.75|-0.04|    4-5| 33-38|55-25|21-59|   44.4%|         5.3%|NULL| 0.1| 0.6| 2.4| 4.6| 8.5|13.5|14.7|missing value|16.3|12.2|15.3|16.1|13.9|26.2|missing value|         0.6%|         0.1%|14.285714285714283|               0.1|              0.6|      2.4|              4.6|\n",
      "|    Sacramento Kings|36.2|43.8|0.452|-1.34| 0.13|    4-4| 32-40|52-28|21-59|   38.8%|         3.6%|NULL| 0.1| 0.4| 1.5| 3.4| 6.6|11.9|15.0|missing value|12.0|10.9|14.7|16.6|16.0|29.8|missing value|         0.5%|         0.1%|14.285714285714283|               0.1|              0.4|      1.5|              3.4|\n",
      "|New Orleans Pelicans|35.7|44.3|0.446| 2.07|-0.49|    4-5| 32-39|50-30|21-59|   33.7%|         0.9%|NULL|NULL| 0.3| 1.0| 2.5| 5.8|10.5|13.6|missing value| 9.7| 9.4|14.1|15.7|15.9|35.3|missing value|         0.3%|missing value|14.285714285714283|11.111111111111107|              0.3|      1.0|              2.5|\n",
      "|  Los Angeles Lakers|34.3|45.7|0.428| 0.59|-0.07|    4-5| 30-41|50-30|19-61|   21.7%|         1.5%|NULL|NULL| 0.2| 0.7| 1.4| 3.2| 6.5| 9.6|missing value| 5.5| 5.9| 9.4|13.5|16.0|49.8|missing value|         0.1%|missing value|14.285714285714283|11.111111111111107|              0.2|      0.7|              1.4|\n",
      "|Portland Trail Bl...|32.6|47.4|0.407|-1.51| 0.24|    3-5| 30-42|48-32|18-62|   12.1%|missing value|NULL|NULL|NULL| 0.1| 0.5| 1.4| 3.5| 6.5|missing value| 2.1| 3.1| 5.6| 8.7|12.6|67.9|missing value|         0.1%|missing value|14.285714285714283|11.111111111111107|9.090909090909092|      0.1|              0.5|\n",
      "|   San Antonio Spurs|29.4|50.6|0.367| 2.51|-0.15|    3-6| 26-45|44-36|16-64|    2.6%|missing value|NULL|NULL|NULL|NULL| 0.1| 0.1| 0.7| 1.7|missing value| 0.2| 0.6| 1.4| 2.8| 5.5|89.5|missing value|missing value|missing value|14.285714285714283|11.111111111111107|9.090909090909092|    8.325|              0.1|\n",
      "|           Utah Jazz|29.1|50.9|0.364|-0.56| 0.35|    3-7| 26-44|44-36|15-65|    2.5%|missing value|NULL|NULL|NULL|NULL|NULL| 0.2| 0.7| 1.6|missing value| 0.2| 0.5| 1.2| 2.7| 5.0|90.5|missing value|missing value|missing value|14.285714285714283|11.111111111111107|9.090909090909092|    8.325|7.684615384615384|\n",
      "|   Memphis Grizzlies|26.5|53.5|0.331|-3.13| 0.42|    1-8| 25-46|42-38|13-67|    0.6%|missing value|NULL|NULL|NULL|NULL|NULL| 0.1| 0.1| 0.5|missing value| 0.1| 0.1| 0.2| 0.6| 1.5|97.5|missing value|missing value|missing value|14.285714285714283|11.111111111111107|9.090909090909092|    8.325|7.684615384615384|\n",
      "+--------------------+----+----+-----+-----+-----+-------+------+-----+-----+--------+-------------+----+----+----+----+----+----+----+----+-------------+----+----+----+----+----+----+-------------+-------------+-------------+------------------+------------------+-----------------+---------+-----------------+\n",
      "\n"
     ]
    }
   ],
   "source": [
    "df_pyspark6.show()"
   ]
  },
  {
   "cell_type": "code",
   "execution_count": null,
   "id": "686c6b56",
   "metadata": {},
   "outputs": [],
   "source": [
    "df_pyspark6.select(['1','2']).show()"
   ]
  },
  {
   "cell_type": "code",
   "execution_count": 211,
   "id": "70240ac6",
   "metadata": {},
   "outputs": [
    {
     "name": "stdout",
     "output_type": "stream",
     "text": [
      "+--------------------+----+----+-----+-----+-----+-------+------+-----+-----+--------+-------------+----+----+----+----+----+----+----+----+-------------+----+----+----+----+----+----+-------------+-------------+-------------+------------------+------------------+-----------------+---------+-----------------+\n",
      "|  Western Conference|   W|   L| W/L%|  SOS| rSOS|Current|Remain| Best|Worst|Playoffs|     Division|   1|   2|   3|   4|   5|   6| 719| 820|         _c21| 1-6| 723| 824|   9|  10| Out|         _c28|     Win Conf|   Win Finals|         1_imputed|         2_imputed|        3_imputed|4_imputed|        5_imputed|\n",
      "+--------------------+----+----+-----+-----+-----+-------+------+-----+-----+--------+-------------+----+----+----+----+----+----+----+----+-------------+----+----+----+----+----+----+-------------+-------------+-------------+------------------+------------------+-----------------+---------+-----------------+\n",
      "|Minnesota Timberw...|53.1|26.9|0.664| 0.98|-0.96|    6-2| 47-25|68-12|37-43|  100.0%|        56.4%|50.9|30.4|13.0| 3.8| 1.4| 0.4| 0.1| 0.1|missing value|99.9| 0.1|NULL|NULL|NULL|NULL|missing value|        39.1%|        16.8%|              50.9|              30.4|             13.0|      3.8|              1.4|\n",
      "|      Denver Nuggets|52.4|27.6|0.655|-1.56|-0.73|    8-1| 44-27|67-13|37-43|  100.0%|        43.3%|39.6|35.8|16.0| 5.9| 1.9| 0.6| 0.2| 0.1|missing value|99.7| 0.2| 0.1|NULL|NULL|NULL|missing value|        29.1%|        11.2%|              39.6|              35.8|             16.0|      5.9|              1.9|\n",
      "|    Dallas Mavericks|47.5|32.5|0.593|-1.51|-0.39|    7-2| 40-31|61-19|32-48|   98.9%|        74.9%| 6.6|19.5|31.2|19.3|12.0| 6.3| 2.8| 1.3|missing value|94.9| 3.1| 1.2| 0.5| 0.2| 0.1|missing value|        11.9%|         3.1%|               6.6|              19.5|             31.2|     19.3|             12.0|\n",
      "|Golden State Warr...|44.6|35.4|0.558|-0.85|-0.46|    6-4| 39-31|58-22|27-53|   95.6%|        69.9%| 1.6| 7.4|17.8|26.2|19.3|12.4| 6.9| 3.9|missing value|84.7| 7.8| 4.1| 1.9| 0.9| 0.7|missing value|         7.3%|         1.5%|               1.6|               7.4|             17.8|     26.2|             19.3|\n",
      "|     Houston Rockets|43.5|36.5|0.543|-3.49|-0.52|    5-3| 38-34|58-22|28-52|   92.1%|        24.3%| 1.0| 4.5|11.3|19.4|22.7|17.0|10.0| 6.2|missing value|75.9|11.4| 6.0| 3.6| 1.9| 1.2|missing value|         5.2%|         1.1%|               1.0|               4.5|             11.3|     19.4|             22.7|\n",
      "|Oklahoma City Thu...|41.3|38.7|0.516|-0.29|-0.35|    5-4| 36-35|56-24|26-54|   80.8%|         0.4%| 0.2| 1.1| 5.2|10.5|16.5|19.2|15.7|12.4|missing value|52.7|17.3|12.6| 8.0| 4.6| 4.7|missing value|         2.8%|         0.6%|               0.2|               1.1|              5.2|     10.5|             16.5|\n",
      "|Los Angeles Clippers|40.4|39.6|0.504| -2.0|-0.31|    3-5| 37-35|55-25|23-57|   76.2%|        19.7%| 0.1| 1.1| 4.0| 9.1|13.6|18.2|17.2|12.8|missing value|46.2|17.3|14.2| 9.3| 6.2| 6.8|missing value|         3.1%|         0.6%|               0.1|               1.1|              4.0|      9.1|             13.6|\n",
      "|        Phoenix Suns|36.9|43.1|0.462|-3.75|-0.04|    4-5| 33-38|55-25|21-59|   44.4%|         5.3%|NULL| 0.1| 0.6| 2.4| 4.6| 8.5|13.5|14.7|missing value|16.3|12.2|15.3|16.1|13.9|26.2|missing value|         0.6%|         0.1%|14.285714285714283|               0.1|              0.6|      2.4|              4.6|\n",
      "|    Sacramento Kings|36.2|43.8|0.452|-1.34| 0.13|    4-4| 32-40|52-28|21-59|   38.8%|         3.6%|NULL| 0.1| 0.4| 1.5| 3.4| 6.6|11.9|15.0|missing value|12.0|10.9|14.7|16.6|16.0|29.8|missing value|         0.5%|         0.1%|14.285714285714283|               0.1|              0.4|      1.5|              3.4|\n",
      "|New Orleans Pelicans|35.7|44.3|0.446| 2.07|-0.49|    4-5| 32-39|50-30|21-59|   33.7%|         0.9%|NULL|NULL| 0.3| 1.0| 2.5| 5.8|10.5|13.6|missing value| 9.7| 9.4|14.1|15.7|15.9|35.3|missing value|         0.3%|missing value|14.285714285714283|11.111111111111107|              0.3|      1.0|              2.5|\n",
      "|  Los Angeles Lakers|34.3|45.7|0.428| 0.59|-0.07|    4-5| 30-41|50-30|19-61|   21.7%|         1.5%|NULL|NULL| 0.2| 0.7| 1.4| 3.2| 6.5| 9.6|missing value| 5.5| 5.9| 9.4|13.5|16.0|49.8|missing value|         0.1%|missing value|14.285714285714283|11.111111111111107|              0.2|      0.7|              1.4|\n",
      "|Portland Trail Bl...|32.6|47.4|0.407|-1.51| 0.24|    3-5| 30-42|48-32|18-62|   12.1%|missing value|NULL|NULL|NULL| 0.1| 0.5| 1.4| 3.5| 6.5|missing value| 2.1| 3.1| 5.6| 8.7|12.6|67.9|missing value|         0.1%|missing value|14.285714285714283|11.111111111111107|9.090909090909092|      0.1|              0.5|\n",
      "|   San Antonio Spurs|29.4|50.6|0.367| 2.51|-0.15|    3-6| 26-45|44-36|16-64|    2.6%|missing value|NULL|NULL|NULL|NULL| 0.1| 0.1| 0.7| 1.7|missing value| 0.2| 0.6| 1.4| 2.8| 5.5|89.5|missing value|missing value|missing value|14.285714285714283|11.111111111111107|9.090909090909092|    8.325|              0.1|\n",
      "|           Utah Jazz|29.1|50.9|0.364|-0.56| 0.35|    3-7| 26-44|44-36|15-65|    2.5%|missing value|NULL|NULL|NULL|NULL|NULL| 0.2| 0.7| 1.6|missing value| 0.2| 0.5| 1.2| 2.7| 5.0|90.5|missing value|missing value|missing value|14.285714285714283|11.111111111111107|9.090909090909092|    8.325|7.684615384615384|\n",
      "|   Memphis Grizzlies|26.5|53.5|0.331|-3.13| 0.42|    1-8| 25-46|42-38|13-67|    0.6%|missing value|NULL|NULL|NULL|NULL|NULL| 0.1| 0.1| 0.5|missing value| 0.1| 0.1| 0.2| 0.6| 1.5|97.5|missing value|missing value|missing value|14.285714285714283|11.111111111111107|9.090909090909092|    8.325|7.684615384615384|\n",
      "+--------------------+----+----+-----+-----+-----+-------+------+-----+-----+--------+-------------+----+----+----+----+----+----+----+----+-------------+----+----+----+----+----+----+-------------+-------------+-------------+------------------+------------------+-----------------+---------+-----------------+\n",
      "\n"
     ]
    }
   ],
   "source": [
    "## filling the na with \"missing value\"\n",
    "df_pyspark6.na.fill('missing value').show()"
   ]
  },
  {
   "cell_type": "code",
   "execution_count": 201,
   "id": "633cc652",
   "metadata": {},
   "outputs": [
    {
     "name": "stdout",
     "output_type": "stream",
     "text": [
      "+--------------------+----+----+-----+-----+-----+-------+------+-----+-----+--------+--------+----+----+----+----+----+----+----+----+----+----+----+----+----+----+----+----+--------+----------+\n",
      "|  Western Conference|   W|   L| W/L%|  SOS| rSOS|Current|Remain| Best|Worst|Playoffs|Division|   1|   2|   3|   4|   5|   6| 719| 820|_c21| 1-6| 723| 824|   9|  10| Out|_c28|Win Conf|Win Finals|\n",
      "+--------------------+----+----+-----+-----+-----+-------+------+-----+-----+--------+--------+----+----+----+----+----+----+----+----+----+----+----+----+----+----+----+----+--------+----------+\n",
      "|Minnesota Timberw...|53.1|26.9|0.664| 0.98|-0.96|    6-2| 47-25|68-12|37-43|  100.0%|   56.4%|50.9|30.4|13.0| 3.8| 1.4| 0.4| 0.1| 0.1|NULL|99.9| 0.1|NULL|NULL|NULL|NULL|NULL|   39.1%|     16.8%|\n",
      "|      Denver Nuggets|52.4|27.6|0.655|-1.56|-0.73|    8-1| 44-27|67-13|37-43|  100.0%|   43.3%|39.6|35.8|16.0| 5.9| 1.9| 0.6| 0.2| 0.1|NULL|99.7| 0.2| 0.1|NULL|NULL|NULL|NULL|   29.1%|     11.2%|\n",
      "|    Dallas Mavericks|47.5|32.5|0.593|-1.51|-0.39|    7-2| 40-31|61-19|32-48|   98.9%|   74.9%| 6.6|19.5|31.2|19.3|12.0| 6.3| 2.8| 1.3|NULL|94.9| 3.1| 1.2| 0.5| 0.2| 0.1|NULL|   11.9%|      3.1%|\n",
      "|Golden State Warr...|44.6|35.4|0.558|-0.85|-0.46|    6-4| 39-31|58-22|27-53|   95.6%|   69.9%| 1.6| 7.4|17.8|26.2|19.3|12.4| 6.9| 3.9|NULL|84.7| 7.8| 4.1| 1.9| 0.9| 0.7|NULL|    7.3%|      1.5%|\n",
      "|     Houston Rockets|43.5|36.5|0.543|-3.49|-0.52|    5-3| 38-34|58-22|28-52|   92.1%|   24.3%| 1.0| 4.5|11.3|19.4|22.7|17.0|10.0| 6.2|NULL|75.9|11.4| 6.0| 3.6| 1.9| 1.2|NULL|    5.2%|      1.1%|\n",
      "|Oklahoma City Thu...|41.3|38.7|0.516|-0.29|-0.35|    5-4| 36-35|56-24|26-54|   80.8%|    0.4%| 0.2| 1.1| 5.2|10.5|16.5|19.2|15.7|12.4|NULL|52.7|17.3|12.6| 8.0| 4.6| 4.7|NULL|    2.8%|      0.6%|\n",
      "|Los Angeles Clippers|40.4|39.6|0.504| -2.0|-0.31|    3-5| 37-35|55-25|23-57|   76.2%|   19.7%| 0.1| 1.1| 4.0| 9.1|13.6|18.2|17.2|12.8|NULL|46.2|17.3|14.2| 9.3| 6.2| 6.8|NULL|    3.1%|      0.6%|\n",
      "|        Phoenix Suns|36.9|43.1|0.462|-3.75|-0.04|    4-5| 33-38|55-25|21-59|   44.4%|    5.3%|NULL| 0.1| 0.6| 2.4| 4.6| 8.5|13.5|14.7|NULL|16.3|12.2|15.3|16.1|13.9|26.2|NULL|    0.6%|      0.1%|\n",
      "|    Sacramento Kings|36.2|43.8|0.452|-1.34| 0.13|    4-4| 32-40|52-28|21-59|   38.8%|    3.6%|NULL| 0.1| 0.4| 1.5| 3.4| 6.6|11.9|15.0|NULL|12.0|10.9|14.7|16.6|16.0|29.8|NULL|    0.5%|      0.1%|\n",
      "|New Orleans Pelicans|35.7|44.3|0.446| 2.07|-0.49|    4-5| 32-39|50-30|21-59|   33.7%|    0.9%|NULL|NULL| 0.3| 1.0| 2.5| 5.8|10.5|13.6|NULL| 9.7| 9.4|14.1|15.7|15.9|35.3|NULL|    0.3%|      NULL|\n",
      "|  Los Angeles Lakers|34.3|45.7|0.428| 0.59|-0.07|    4-5| 30-41|50-30|19-61|   21.7%|    1.5%|NULL|NULL| 0.2| 0.7| 1.4| 3.2| 6.5| 9.6|NULL| 5.5| 5.9| 9.4|13.5|16.0|49.8|NULL|    0.1%|      NULL|\n",
      "|Portland Trail Bl...|32.6|47.4|0.407|-1.51| 0.24|    3-5| 30-42|48-32|18-62|   12.1%|    NULL|NULL|NULL|NULL| 0.1| 0.5| 1.4| 3.5| 6.5|NULL| 2.1| 3.1| 5.6| 8.7|12.6|67.9|NULL|    0.1%|      NULL|\n",
      "|   San Antonio Spurs|29.4|50.6|0.367| 2.51|-0.15|    3-6| 26-45|44-36|16-64|    2.6%|    NULL|NULL|NULL|NULL|NULL| 0.1| 0.1| 0.7| 1.7|NULL| 0.2| 0.6| 1.4| 2.8| 5.5|89.5|NULL|    NULL|      NULL|\n",
      "|           Utah Jazz|29.1|50.9|0.364|-0.56| 0.35|    3-7| 26-44|44-36|15-65|    2.5%|    NULL|NULL|NULL|NULL|NULL|NULL| 0.2| 0.7| 1.6|NULL| 0.2| 0.5| 1.2| 2.7| 5.0|90.5|NULL|    NULL|      NULL|\n",
      "|   Memphis Grizzlies|26.5|53.5|0.331|-3.13| 0.42|    1-8| 25-46|42-38|13-67|    0.6%|    NULL|NULL|NULL|NULL|NULL|NULL| 0.1| 0.1| 0.5|NULL| 0.1| 0.1| 0.2| 0.6| 1.5|97.5|NULL|    NULL|      NULL|\n",
      "+--------------------+----+----+-----+-----+-----+-------+------+-----+-----+--------+--------+----+----+----+----+----+----+----+----+----+----+----+----+----+----+----+----+--------+----------+\n",
      "\n"
     ]
    }
   ],
   "source": [
    "#changing value for specific column\n",
    "df_pyspark5.na.fill('missing value',['1','2','3','4','5']).show()"
   ]
  },
  {
   "cell_type": "code",
   "execution_count": 208,
   "id": "1f398186",
   "metadata": {},
   "outputs": [],
   "source": [
    "from pyspark.ml.feature import Imputer\n",
    "imputer=Imputer(\n",
    "          inputCols=['1','2','3','4','5'],\n",
    "          outputCols=[\"{}_imputed\".format(c) for c in ['1','2','3','4','5']]\n",
    "                ).setStrategy('mean')"
   ]
  },
  {
   "cell_type": "code",
   "execution_count": 209,
   "id": "46687a1c",
   "metadata": {},
   "outputs": [],
   "source": [
    "df_pyspark5=imputer.fit(df_pyspark5).transform(df_pyspark5)\n"
   ]
  },
  {
   "cell_type": "code",
   "execution_count": 213,
   "id": "6b9f97d2",
   "metadata": {},
   "outputs": [
    {
     "name": "stdout",
     "output_type": "stream",
     "text": [
      "+------------------+------------------+\n",
      "|         1_imputed|         2_imputed|\n",
      "+------------------+------------------+\n",
      "|              50.9|              30.4|\n",
      "|              39.6|              35.8|\n",
      "|               6.6|              19.5|\n",
      "|               1.6|               7.4|\n",
      "|               1.0|               4.5|\n",
      "|               0.2|               1.1|\n",
      "|               0.1|               1.1|\n",
      "|14.285714285714283|               0.1|\n",
      "|14.285714285714283|               0.1|\n",
      "|14.285714285714283|11.111111111111107|\n",
      "|14.285714285714283|11.111111111111107|\n",
      "|14.285714285714283|11.111111111111107|\n",
      "|14.285714285714283|11.111111111111107|\n",
      "|14.285714285714283|11.111111111111107|\n",
      "|14.285714285714283|11.111111111111107|\n",
      "+------------------+------------------+\n",
      "\n"
     ]
    }
   ],
   "source": [
    "df_pyspark5.select(['1_imputed','2_imputed']).show()"
   ]
  },
  {
   "cell_type": "code",
   "execution_count": 214,
   "id": "3c106c21",
   "metadata": {},
   "outputs": [],
   "source": [
    "#filter operation"
   ]
  },
  {
   "cell_type": "code",
   "execution_count": 227,
   "id": "0cab14e8",
   "metadata": {},
   "outputs": [],
   "source": [
    "from pyspark.sql import functions as F\n",
    "df=df_pyspark5.filter(F.col('1_imputed').between(0,2))"
   ]
  },
  {
   "cell_type": "code",
   "execution_count": 228,
   "id": "9bcf3acc",
   "metadata": {},
   "outputs": [
    {
     "name": "stdout",
     "output_type": "stream",
     "text": [
      "+--------------------+----+----+-----+-----+-----+-------+------+-----+-----+--------+--------+---+---+----+----+----+----+----+----+-------------+----+----+----+---+---+---+-------------+--------+----------+---------+---------+---------+---------+---------+\n",
      "|  Western Conference|   W|   L| W/L%|  SOS| rSOS|Current|Remain| Best|Worst|Playoffs|Division|  1|  2|   3|   4|   5|   6| 719| 820|         _c21| 1-6| 723| 824|  9| 10|Out|         _c28|Win Conf|Win Finals|1_imputed|2_imputed|3_imputed|4_imputed|5_imputed|\n",
      "+--------------------+----+----+-----+-----+-----+-------+------+-----+-----+--------+--------+---+---+----+----+----+----+----+----+-------------+----+----+----+---+---+---+-------------+--------+----------+---------+---------+---------+---------+---------+\n",
      "|Golden State Warr...|44.6|35.4|0.558|-0.85|-0.46|    6-4| 39-31|58-22|27-53|   95.6%|   69.9%|1.6|7.4|17.8|26.2|19.3|12.4| 6.9| 3.9|missing value|84.7| 7.8| 4.1|1.9|0.9|0.7|missing value|    7.3%|      1.5%|      1.6|      7.4|     17.8|     26.2|     19.3|\n",
      "|     Houston Rockets|43.5|36.5|0.543|-3.49|-0.52|    5-3| 38-34|58-22|28-52|   92.1%|   24.3%|1.0|4.5|11.3|19.4|22.7|17.0|10.0| 6.2|missing value|75.9|11.4| 6.0|3.6|1.9|1.2|missing value|    5.2%|      1.1%|      1.0|      4.5|     11.3|     19.4|     22.7|\n",
      "|Oklahoma City Thu...|41.3|38.7|0.516|-0.29|-0.35|    5-4| 36-35|56-24|26-54|   80.8%|    0.4%|0.2|1.1| 5.2|10.5|16.5|19.2|15.7|12.4|missing value|52.7|17.3|12.6|8.0|4.6|4.7|missing value|    2.8%|      0.6%|      0.2|      1.1|      5.2|     10.5|     16.5|\n",
      "|Los Angeles Clippers|40.4|39.6|0.504| -2.0|-0.31|    3-5| 37-35|55-25|23-57|   76.2%|   19.7%|0.1|1.1| 4.0| 9.1|13.6|18.2|17.2|12.8|missing value|46.2|17.3|14.2|9.3|6.2|6.8|missing value|    3.1%|      0.6%|      0.1|      1.1|      4.0|      9.1|     13.6|\n",
      "+--------------------+----+----+-----+-----+-----+-------+------+-----+-----+--------+--------+---+---+----+----+----+----+----+----+-------------+----+----+----+---+---+---+-------------+--------+----------+---------+---------+---------+---------+---------+\n",
      "\n"
     ]
    }
   ],
   "source": [
    "df.show()"
   ]
  },
  {
   "cell_type": "code",
   "execution_count": 229,
   "id": "735ad816",
   "metadata": {},
   "outputs": [
    {
     "name": "stdout",
     "output_type": "stream",
     "text": [
      "+--------+\n",
      "|Playoffs|\n",
      "+--------+\n",
      "|   95.6%|\n",
      "|   92.1%|\n",
      "|   80.8%|\n",
      "|   76.2%|\n",
      "+--------+\n",
      "\n"
     ]
    }
   ],
   "source": [
    "df.select('Playoffs').show()"
   ]
  },
  {
   "cell_type": "code",
   "execution_count": 242,
   "id": "0e7e4305",
   "metadata": {},
   "outputs": [
    {
     "name": "stdout",
     "output_type": "stream",
     "text": [
      "+------------------+---+---+----+---+----+-------+------+----+-----+--------+--------+---+---+---+---+---+---+---+---+----+---+---+---+---+---+---+----+--------+----------+---------+---------+---------+---------+---------+\n",
      "|Western Conference|  W|  L|W/L%|SOS|rSOS|Current|Remain|Best|Worst|Playoffs|Division|  1|  2|  3|  4|  5|  6|719|820|_c21|1-6|723|824|  9| 10|Out|_c28|Win Conf|Win Finals|1_imputed|2_imputed|3_imputed|4_imputed|5_imputed|\n",
      "+------------------+---+---+----+---+----+-------+------+----+-----+--------+--------+---+---+---+---+---+---+---+---+----+---+---+---+---+---+---+----+--------+----------+---------+---------+---------+---------+---------+\n",
      "+------------------+---+---+----+---+----+-------+------+----+-----+--------+--------+---+---+---+---+---+---+---+---+----+---+---+---+---+---+---+----+--------+----------+---------+---------+---------+---------+---------+\n",
      "\n"
     ]
    }
   ],
   "source": [
    "\n",
    "df_pyspark5.filter((df_pyspark5['Playoffs']<= 0.6) & (df_pyspark5['Playoffs']>=0.1)).show()\n",
    "#giving nothing as playoff col has % not in pointer so convert to pointer itself "
   ]
  },
  {
   "cell_type": "code",
   "execution_count": 239,
   "id": "5b96e201",
   "metadata": {},
   "outputs": [
    {
     "name": "stdout",
     "output_type": "stream",
     "text": [
      "+--------------------+----+----+-----+-----+-----+-------+------+-----+-----+--------+--------+---+---+----+----+----+----+----+---+-------------+----+----+---+---+---+---+-------------+--------+----------+---------+---------+---------+---------+---------+\n",
      "|  Western Conference|   W|   L| W/L%|  SOS| rSOS|Current|Remain| Best|Worst|Playoffs|Division|  1|  2|   3|   4|   5|   6| 719|820|         _c21| 1-6| 723|824|  9| 10|Out|         _c28|Win Conf|Win Finals|1_imputed|2_imputed|3_imputed|4_imputed|5_imputed|\n",
      "+--------------------+----+----+-----+-----+-----+-------+------+-----+-----+--------+--------+---+---+----+----+----+----+----+---+-------------+----+----+---+---+---+---+-------------+--------+----------+---------+---------+---------+---------+---------+\n",
      "|Golden State Warr...|44.6|35.4|0.558|-0.85|-0.46|    6-4| 39-31|58-22|27-53|   95.6%|   69.9%|1.6|7.4|17.8|26.2|19.3|12.4| 6.9|3.9|missing value|84.7| 7.8|4.1|1.9|0.9|0.7|missing value|    7.3%|      1.5%|      1.6|      7.4|     17.8|     26.2|     19.3|\n",
      "|     Houston Rockets|43.5|36.5|0.543|-3.49|-0.52|    5-3| 38-34|58-22|28-52|   92.1%|   24.3%|1.0|4.5|11.3|19.4|22.7|17.0|10.0|6.2|missing value|75.9|11.4|6.0|3.6|1.9|1.2|missing value|    5.2%|      1.1%|      1.0|      4.5|     11.3|     19.4|     22.7|\n",
      "+--------------------+----+----+-----+-----+-----+-------+------+-----+-----+--------+--------+---+---+----+----+----+----+----+---+-------------+----+----+---+---+---+---+-------------+--------+----------+---------+---------+---------+---------+---------+\n",
      "\n"
     ]
    }
   ],
   "source": [
    "from pyspark.sql.functions import col\n",
    "df_pyspark5.filter((col('1_imputed') >= 1) & (col('1_imputed') <= 2)).show()"
   ]
  },
  {
   "cell_type": "code",
   "execution_count": 243,
   "id": "aff0c9cd",
   "metadata": {},
   "outputs": [
    {
     "name": "stdout",
     "output_type": "stream",
     "text": [
      "+--------------------+----+----+-----+-----+-----+-------+------+-----+-----+--------+-------------+----+----+----+----+----+----+----+----+-------------+----+----+----+----+----+----+-------------+-------------+-------------+------------------+------------------+-----------------+---------+-----------------+\n",
      "|  Western Conference|   W|   L| W/L%|  SOS| rSOS|Current|Remain| Best|Worst|Playoffs|     Division|   1|   2|   3|   4|   5|   6| 719| 820|         _c21| 1-6| 723| 824|   9|  10| Out|         _c28|     Win Conf|   Win Finals|         1_imputed|         2_imputed|        3_imputed|4_imputed|        5_imputed|\n",
      "+--------------------+----+----+-----+-----+-----+-------+------+-----+-----+--------+-------------+----+----+----+----+----+----+----+----+-------------+----+----+----+----+----+----+-------------+-------------+-------------+------------------+------------------+-----------------+---------+-----------------+\n",
      "|Minnesota Timberw...|53.1|26.9|0.664| 0.98|-0.96|    6-2| 47-25|68-12|37-43|  100.0%|        56.4%|50.9|30.4|13.0| 3.8| 1.4| 0.4| 0.1| 0.1|missing value|99.9| 0.1|NULL|NULL|NULL|NULL|missing value|        39.1%|        16.8%|              50.9|              30.4|             13.0|      3.8|              1.4|\n",
      "|      Denver Nuggets|52.4|27.6|0.655|-1.56|-0.73|    8-1| 44-27|67-13|37-43|  100.0%|        43.3%|39.6|35.8|16.0| 5.9| 1.9| 0.6| 0.2| 0.1|missing value|99.7| 0.2| 0.1|NULL|NULL|NULL|missing value|        29.1%|        11.2%|              39.6|              35.8|             16.0|      5.9|              1.9|\n",
      "|    Dallas Mavericks|47.5|32.5|0.593|-1.51|-0.39|    7-2| 40-31|61-19|32-48|   98.9%|        74.9%| 6.6|19.5|31.2|19.3|12.0| 6.3| 2.8| 1.3|missing value|94.9| 3.1| 1.2| 0.5| 0.2| 0.1|missing value|        11.9%|         3.1%|               6.6|              19.5|             31.2|     19.3|             12.0|\n",
      "|Golden State Warr...|44.6|35.4|0.558|-0.85|-0.46|    6-4| 39-31|58-22|27-53|   95.6%|        69.9%| 1.6| 7.4|17.8|26.2|19.3|12.4| 6.9| 3.9|missing value|84.7| 7.8| 4.1| 1.9| 0.9| 0.7|missing value|         7.3%|         1.5%|               1.6|               7.4|             17.8|     26.2|             19.3|\n",
      "|     Houston Rockets|43.5|36.5|0.543|-3.49|-0.52|    5-3| 38-34|58-22|28-52|   92.1%|        24.3%| 1.0| 4.5|11.3|19.4|22.7|17.0|10.0| 6.2|missing value|75.9|11.4| 6.0| 3.6| 1.9| 1.2|missing value|         5.2%|         1.1%|               1.0|               4.5|             11.3|     19.4|             22.7|\n",
      "|Oklahoma City Thu...|41.3|38.7|0.516|-0.29|-0.35|    5-4| 36-35|56-24|26-54|   80.8%|         0.4%| 0.2| 1.1| 5.2|10.5|16.5|19.2|15.7|12.4|missing value|52.7|17.3|12.6| 8.0| 4.6| 4.7|missing value|         2.8%|         0.6%|               0.2|               1.1|              5.2|     10.5|             16.5|\n",
      "|Los Angeles Clippers|40.4|39.6|0.504| -2.0|-0.31|    3-5| 37-35|55-25|23-57|   76.2%|        19.7%| 0.1| 1.1| 4.0| 9.1|13.6|18.2|17.2|12.8|missing value|46.2|17.3|14.2| 9.3| 6.2| 6.8|missing value|         3.1%|         0.6%|               0.1|               1.1|              4.0|      9.1|             13.6|\n",
      "|        Phoenix Suns|36.9|43.1|0.462|-3.75|-0.04|    4-5| 33-38|55-25|21-59|   44.4%|         5.3%|NULL| 0.1| 0.6| 2.4| 4.6| 8.5|13.5|14.7|missing value|16.3|12.2|15.3|16.1|13.9|26.2|missing value|         0.6%|         0.1%|14.285714285714283|               0.1|              0.6|      2.4|              4.6|\n",
      "|    Sacramento Kings|36.2|43.8|0.452|-1.34| 0.13|    4-4| 32-40|52-28|21-59|   38.8%|         3.6%|NULL| 0.1| 0.4| 1.5| 3.4| 6.6|11.9|15.0|missing value|12.0|10.9|14.7|16.6|16.0|29.8|missing value|         0.5%|         0.1%|14.285714285714283|               0.1|              0.4|      1.5|              3.4|\n",
      "|New Orleans Pelicans|35.7|44.3|0.446| 2.07|-0.49|    4-5| 32-39|50-30|21-59|   33.7%|         0.9%|NULL|NULL| 0.3| 1.0| 2.5| 5.8|10.5|13.6|missing value| 9.7| 9.4|14.1|15.7|15.9|35.3|missing value|         0.3%|missing value|14.285714285714283|11.111111111111107|              0.3|      1.0|              2.5|\n",
      "|  Los Angeles Lakers|34.3|45.7|0.428| 0.59|-0.07|    4-5| 30-41|50-30|19-61|   21.7%|         1.5%|NULL|NULL| 0.2| 0.7| 1.4| 3.2| 6.5| 9.6|missing value| 5.5| 5.9| 9.4|13.5|16.0|49.8|missing value|         0.1%|missing value|14.285714285714283|11.111111111111107|              0.2|      0.7|              1.4|\n",
      "|Portland Trail Bl...|32.6|47.4|0.407|-1.51| 0.24|    3-5| 30-42|48-32|18-62|   12.1%|missing value|NULL|NULL|NULL| 0.1| 0.5| 1.4| 3.5| 6.5|missing value| 2.1| 3.1| 5.6| 8.7|12.6|67.9|missing value|         0.1%|missing value|14.285714285714283|11.111111111111107|9.090909090909092|      0.1|              0.5|\n",
      "|   San Antonio Spurs|29.4|50.6|0.367| 2.51|-0.15|    3-6| 26-45|44-36|16-64|    2.6%|missing value|NULL|NULL|NULL|NULL| 0.1| 0.1| 0.7| 1.7|missing value| 0.2| 0.6| 1.4| 2.8| 5.5|89.5|missing value|missing value|missing value|14.285714285714283|11.111111111111107|9.090909090909092|    8.325|              0.1|\n",
      "|           Utah Jazz|29.1|50.9|0.364|-0.56| 0.35|    3-7| 26-44|44-36|15-65|    2.5%|missing value|NULL|NULL|NULL|NULL|NULL| 0.2| 0.7| 1.6|missing value| 0.2| 0.5| 1.2| 2.7| 5.0|90.5|missing value|missing value|missing value|14.285714285714283|11.111111111111107|9.090909090909092|    8.325|7.684615384615384|\n",
      "|   Memphis Grizzlies|26.5|53.5|0.331|-3.13| 0.42|    1-8| 25-46|42-38|13-67|    0.6%|missing value|NULL|NULL|NULL|NULL|NULL| 0.1| 0.1| 0.5|missing value| 0.1| 0.1| 0.2| 0.6| 1.5|97.5|missing value|missing value|missing value|14.285714285714283|11.111111111111107|9.090909090909092|    8.325|7.684615384615384|\n",
      "+--------------------+----+----+-----+-----+-----+-------+------+-----+-----+--------+-------------+----+----+----+----+----+----+----+----+-------------+----+----+----+----+----+----+-------------+-------------+-------------+------------------+------------------+-----------------+---------+-----------------+\n",
      "\n"
     ]
    }
   ],
   "source": [
    "df_pyspark5.filter((col('1_imputed') >= 1) | (col('1_imputed') <= 2)).show()"
   ]
  },
  {
   "cell_type": "code",
   "execution_count": 249,
   "id": "e72a6539",
   "metadata": {},
   "outputs": [
    {
     "name": "stdout",
     "output_type": "stream",
     "text": [
      "+--------------------+----+----+-----+-----+-----+-------+------+-----+-----+--------+-------------+----+----+----+----+----+----+----+----+-------------+----+----+----+----+----+----+-------------+-------------+-------------+------------------+------------------+-----------------+---------+-----------------+\n",
      "|  Western Conference|   W|   L| W/L%|  SOS| rSOS|Current|Remain| Best|Worst|Playoffs|     Division|   1|   2|   3|   4|   5|   6| 719| 820|         _c21| 1-6| 723| 824|   9|  10| Out|         _c28|     Win Conf|   Win Finals|         1_imputed|         2_imputed|        3_imputed|4_imputed|        5_imputed|\n",
      "+--------------------+----+----+-----+-----+-----+-------+------+-----+-----+--------+-------------+----+----+----+----+----+----+----+----+-------------+----+----+----+----+----+----+-------------+-------------+-------------+------------------+------------------+-----------------+---------+-----------------+\n",
      "|Minnesota Timberw...|53.1|26.9|0.664| 0.98|-0.96|    6-2| 47-25|68-12|37-43|  100.0%|        56.4%|50.9|30.4|13.0| 3.8| 1.4| 0.4| 0.1| 0.1|missing value|99.9| 0.1|NULL|NULL|NULL|NULL|missing value|        39.1%|        16.8%|              50.9|              30.4|             13.0|      3.8|              1.4|\n",
      "|      Denver Nuggets|52.4|27.6|0.655|-1.56|-0.73|    8-1| 44-27|67-13|37-43|  100.0%|        43.3%|39.6|35.8|16.0| 5.9| 1.9| 0.6| 0.2| 0.1|missing value|99.7| 0.2| 0.1|NULL|NULL|NULL|missing value|        29.1%|        11.2%|              39.6|              35.8|             16.0|      5.9|              1.9|\n",
      "|    Dallas Mavericks|47.5|32.5|0.593|-1.51|-0.39|    7-2| 40-31|61-19|32-48|   98.9%|        74.9%| 6.6|19.5|31.2|19.3|12.0| 6.3| 2.8| 1.3|missing value|94.9| 3.1| 1.2| 0.5| 0.2| 0.1|missing value|        11.9%|         3.1%|               6.6|              19.5|             31.2|     19.3|             12.0|\n",
      "|Golden State Warr...|44.6|35.4|0.558|-0.85|-0.46|    6-4| 39-31|58-22|27-53|   95.6%|        69.9%| 1.6| 7.4|17.8|26.2|19.3|12.4| 6.9| 3.9|missing value|84.7| 7.8| 4.1| 1.9| 0.9| 0.7|missing value|         7.3%|         1.5%|               1.6|               7.4|             17.8|     26.2|             19.3|\n",
      "|     Houston Rockets|43.5|36.5|0.543|-3.49|-0.52|    5-3| 38-34|58-22|28-52|   92.1%|        24.3%| 1.0| 4.5|11.3|19.4|22.7|17.0|10.0| 6.2|missing value|75.9|11.4| 6.0| 3.6| 1.9| 1.2|missing value|         5.2%|         1.1%|               1.0|               4.5|             11.3|     19.4|             22.7|\n",
      "|Oklahoma City Thu...|41.3|38.7|0.516|-0.29|-0.35|    5-4| 36-35|56-24|26-54|   80.8%|         0.4%| 0.2| 1.1| 5.2|10.5|16.5|19.2|15.7|12.4|missing value|52.7|17.3|12.6| 8.0| 4.6| 4.7|missing value|         2.8%|         0.6%|               0.2|               1.1|              5.2|     10.5|             16.5|\n",
      "|Los Angeles Clippers|40.4|39.6|0.504| -2.0|-0.31|    3-5| 37-35|55-25|23-57|   76.2%|        19.7%| 0.1| 1.1| 4.0| 9.1|13.6|18.2|17.2|12.8|missing value|46.2|17.3|14.2| 9.3| 6.2| 6.8|missing value|         3.1%|         0.6%|               0.1|               1.1|              4.0|      9.1|             13.6|\n",
      "|        Phoenix Suns|36.9|43.1|0.462|-3.75|-0.04|    4-5| 33-38|55-25|21-59|   44.4%|         5.3%|NULL| 0.1| 0.6| 2.4| 4.6| 8.5|13.5|14.7|missing value|16.3|12.2|15.3|16.1|13.9|26.2|missing value|         0.6%|         0.1%|14.285714285714283|               0.1|              0.6|      2.4|              4.6|\n",
      "|    Sacramento Kings|36.2|43.8|0.452|-1.34| 0.13|    4-4| 32-40|52-28|21-59|   38.8%|         3.6%|NULL| 0.1| 0.4| 1.5| 3.4| 6.6|11.9|15.0|missing value|12.0|10.9|14.7|16.6|16.0|29.8|missing value|         0.5%|         0.1%|14.285714285714283|               0.1|              0.4|      1.5|              3.4|\n",
      "|New Orleans Pelicans|35.7|44.3|0.446| 2.07|-0.49|    4-5| 32-39|50-30|21-59|   33.7%|         0.9%|NULL|NULL| 0.3| 1.0| 2.5| 5.8|10.5|13.6|missing value| 9.7| 9.4|14.1|15.7|15.9|35.3|missing value|         0.3%|missing value|14.285714285714283|11.111111111111107|              0.3|      1.0|              2.5|\n",
      "|  Los Angeles Lakers|34.3|45.7|0.428| 0.59|-0.07|    4-5| 30-41|50-30|19-61|   21.7%|         1.5%|NULL|NULL| 0.2| 0.7| 1.4| 3.2| 6.5| 9.6|missing value| 5.5| 5.9| 9.4|13.5|16.0|49.8|missing value|         0.1%|missing value|14.285714285714283|11.111111111111107|              0.2|      0.7|              1.4|\n",
      "|Portland Trail Bl...|32.6|47.4|0.407|-1.51| 0.24|    3-5| 30-42|48-32|18-62|   12.1%|missing value|NULL|NULL|NULL| 0.1| 0.5| 1.4| 3.5| 6.5|missing value| 2.1| 3.1| 5.6| 8.7|12.6|67.9|missing value|         0.1%|missing value|14.285714285714283|11.111111111111107|9.090909090909092|      0.1|              0.5|\n",
      "|   San Antonio Spurs|29.4|50.6|0.367| 2.51|-0.15|    3-6| 26-45|44-36|16-64|    2.6%|missing value|NULL|NULL|NULL|NULL| 0.1| 0.1| 0.7| 1.7|missing value| 0.2| 0.6| 1.4| 2.8| 5.5|89.5|missing value|missing value|missing value|14.285714285714283|11.111111111111107|9.090909090909092|    8.325|              0.1|\n",
      "|           Utah Jazz|29.1|50.9|0.364|-0.56| 0.35|    3-7| 26-44|44-36|15-65|    2.5%|missing value|NULL|NULL|NULL|NULL|NULL| 0.2| 0.7| 1.6|missing value| 0.2| 0.5| 1.2| 2.7| 5.0|90.5|missing value|missing value|missing value|14.285714285714283|11.111111111111107|9.090909090909092|    8.325|7.684615384615384|\n",
      "|   Memphis Grizzlies|26.5|53.5|0.331|-3.13| 0.42|    1-8| 25-46|42-38|13-67|    0.6%|missing value|NULL|NULL|NULL|NULL|NULL| 0.1| 0.1| 0.5|missing value| 0.1| 0.1| 0.2| 0.6| 1.5|97.5|missing value|missing value|missing value|14.285714285714283|11.111111111111107|9.090909090909092|    8.325|7.684615384615384|\n",
      "+--------------------+----+----+-----+-----+-----+-------+------+-----+-----+--------+-------------+----+----+----+----+----+----+----+----+-------------+----+----+----+----+----+----+-------------+-------------+-------------+------------------+------------------+-----------------+---------+-----------------+\n",
      "\n"
     ]
    }
   ],
   "source": [
    "df_pyspark5.filter(~((col('1_imputed') <= 4) & (col('1_imputed') >= 2))).show()"
   ]
  },
  {
   "cell_type": "code",
   "execution_count": 250,
   "id": "53bc2c5b",
   "metadata": {},
   "outputs": [],
   "source": [
    "#group by and aggregation"
   ]
  },
  {
   "cell_type": "code",
   "execution_count": 253,
   "id": "5e25de4c",
   "metadata": {},
   "outputs": [
    {
     "name": "stdout",
     "output_type": "stream",
     "text": [
      "+--------+------+------+---------+-------------------+---------+------+-----------------+------+------+------+------+-------------------+--------+------------------+-------------------+--------+------+-------+--------+------------------+------------------+-----------------+--------------+-----------------+\n",
      "|Playoffs|sum(W)|sum(L)|sum(W/L%)|           sum(SOS)|sum(rSOS)|sum(1)|           sum(2)|sum(3)|sum(4)|sum(5)|sum(6)|           sum(719)|sum(820)|          sum(1-6)|           sum(723)|sum(824)|sum(9)|sum(10)|sum(Out)|    sum(1_imputed)|    sum(2_imputed)|   sum(3_imputed)|sum(4_imputed)|   sum(5_imputed)|\n",
      "+--------+------+------+---------+-------------------+---------+------+-----------------+------+------+------+------+-------------------+--------+------------------+-------------------+--------+------+-------+--------+------------------+------------------+-----------------+--------------+-----------------+\n",
      "|    2.5%|  29.1|  50.9|    0.364|              -0.56|     0.35|  NULL|             NULL|  NULL|  NULL|  NULL|   0.2|                0.7|     1.6|               0.2|                0.5|     1.2|   2.7|    5.0|    90.5|14.285714285714283|11.111111111111107|9.090909090909092|         8.325|7.684615384615384|\n",
      "|   21.7%|  34.3|  45.7|    0.428|               0.59|    -0.07|  NULL|             NULL|   0.2|   0.7|   1.4|   3.2|                6.5|     9.6|               5.5|                5.9|     9.4|  13.5|   16.0|    49.8|14.285714285714283|11.111111111111107|              0.2|           0.7|              1.4|\n",
      "|    0.6%|  26.5|  53.5|    0.331|              -3.13|     0.42|  NULL|             NULL|  NULL|  NULL|  NULL|   0.1|                0.1|     0.5|               0.1|                0.1|     0.2|   0.6|    1.5|    97.5|14.285714285714283|11.111111111111107|9.090909090909092|         8.325|7.684615384615384|\n",
      "|   95.6%|  44.6|  35.4|    0.558|              -0.85|    -0.46|   1.6|              7.4|  17.8|  26.2|  19.3|  12.4|                6.9|     3.9|              84.7|                7.8|     4.1|   1.9|    0.9|     0.7|               1.6|               7.4|             17.8|          26.2|             19.3|\n",
      "|  100.0%| 105.5|  54.5|    1.319|-0.5800000000000001|    -1.69|  90.5|66.19999999999999|  29.0|   9.7|   3.3|   1.0|0.30000000000000004|     0.2|199.60000000000002|0.30000000000000004|     0.1|  NULL|   NULL|    NULL|              90.5| 66.19999999999999|             29.0|           9.7|              3.3|\n",
      "|   44.4%|  36.9|  43.1|    0.462|              -3.75|    -0.04|  NULL|              0.1|   0.6|   2.4|   4.6|   8.5|               13.5|    14.7|              16.3|               12.2|    15.3|  16.1|   13.9|    26.2|14.285714285714283|               0.1|              0.6|           2.4|              4.6|\n",
      "|   92.1%|  43.5|  36.5|    0.543|              -3.49|    -0.52|   1.0|              4.5|  11.3|  19.4|  22.7|  17.0|               10.0|     6.2|              75.9|               11.4|     6.0|   3.6|    1.9|     1.2|               1.0|               4.5|             11.3|          19.4|             22.7|\n",
      "|   80.8%|  41.3|  38.7|    0.516|              -0.29|    -0.35|   0.2|              1.1|   5.2|  10.5|  16.5|  19.2|               15.7|    12.4|              52.7|               17.3|    12.6|   8.0|    4.6|     4.7|               0.2|               1.1|              5.2|          10.5|             16.5|\n",
      "|   98.9%|  47.5|  32.5|    0.593|              -1.51|    -0.39|   6.6|             19.5|  31.2|  19.3|  12.0|   6.3|                2.8|     1.3|              94.9|                3.1|     1.2|   0.5|    0.2|     0.1|               6.6|              19.5|             31.2|          19.3|             12.0|\n",
      "|   76.2%|  40.4|  39.6|    0.504|               -2.0|    -0.31|   0.1|              1.1|   4.0|   9.1|  13.6|  18.2|               17.2|    12.8|              46.2|               17.3|    14.2|   9.3|    6.2|     6.8|               0.1|               1.1|              4.0|           9.1|             13.6|\n",
      "|   38.8%|  36.2|  43.8|    0.452|              -1.34|     0.13|  NULL|              0.1|   0.4|   1.5|   3.4|   6.6|               11.9|    15.0|              12.0|               10.9|    14.7|  16.6|   16.0|    29.8|14.285714285714283|               0.1|              0.4|           1.5|              3.4|\n",
      "|   33.7%|  35.7|  44.3|    0.446|               2.07|    -0.49|  NULL|             NULL|   0.3|   1.0|   2.5|   5.8|               10.5|    13.6|               9.7|                9.4|    14.1|  15.7|   15.9|    35.3|14.285714285714283|11.111111111111107|              0.3|           1.0|              2.5|\n",
      "|   12.1%|  32.6|  47.4|    0.407|              -1.51|     0.24|  NULL|             NULL|  NULL|   0.1|   0.5|   1.4|                3.5|     6.5|               2.1|                3.1|     5.6|   8.7|   12.6|    67.9|14.285714285714283|11.111111111111107|9.090909090909092|           0.1|              0.5|\n",
      "|    2.6%|  29.4|  50.6|    0.367|               2.51|    -0.15|  NULL|             NULL|  NULL|  NULL|   0.1|   0.1|                0.7|     1.7|               0.2|                0.6|     1.4|   2.8|    5.5|    89.5|14.285714285714283|11.111111111111107|9.090909090909092|         8.325|              0.1|\n",
      "+--------+------+------+---------+-------------------+---------+------+-----------------+------+------+------+------+-------------------+--------+------------------+-------------------+--------+------+-------+--------+------------------+------------------+-----------------+--------------+-----------------+\n",
      "\n"
     ]
    }
   ],
   "source": [
    "df_pyspark5.groupBy('Playoffs').sum().show()\n",
    "#not relevant for this case \n",
    "# group by means select same rows u specify and calculate sum for them and show"
   ]
  },
  {
   "cell_type": "code",
   "execution_count": 254,
   "id": "d0be7073",
   "metadata": {},
   "outputs": [
    {
     "name": "stdout",
     "output_type": "stream",
     "text": [
      "+--------+------+------+---------+--------------------+---------+------+------------------+------+------+------+------+-------------------+--------+-----------------+-------------------+--------+------+-------+--------+------------------+------------------+-----------------+--------------+-----------------+\n",
      "|Playoffs|avg(W)|avg(L)|avg(W/L%)|            avg(SOS)|avg(rSOS)|avg(1)|            avg(2)|avg(3)|avg(4)|avg(5)|avg(6)|           avg(719)|avg(820)|         avg(1-6)|           avg(723)|avg(824)|avg(9)|avg(10)|avg(Out)|    avg(1_imputed)|    avg(2_imputed)|   avg(3_imputed)|avg(4_imputed)|   avg(5_imputed)|\n",
      "+--------+------+------+---------+--------------------+---------+------+------------------+------+------+------+------+-------------------+--------+-----------------+-------------------+--------+------+-------+--------+------------------+------------------+-----------------+--------------+-----------------+\n",
      "|    2.5%|  29.1|  50.9|    0.364|               -0.56|     0.35|  NULL|              NULL|  NULL|  NULL|  NULL|   0.2|                0.7|     1.6|              0.2|                0.5|     1.2|   2.7|    5.0|    90.5|14.285714285714283|11.111111111111107|9.090909090909092|         8.325|7.684615384615384|\n",
      "|   21.7%|  34.3|  45.7|    0.428|                0.59|    -0.07|  NULL|              NULL|   0.2|   0.7|   1.4|   3.2|                6.5|     9.6|              5.5|                5.9|     9.4|  13.5|   16.0|    49.8|14.285714285714283|11.111111111111107|              0.2|           0.7|              1.4|\n",
      "|    0.6%|  26.5|  53.5|    0.331|               -3.13|     0.42|  NULL|              NULL|  NULL|  NULL|  NULL|   0.1|                0.1|     0.5|              0.1|                0.1|     0.2|   0.6|    1.5|    97.5|14.285714285714283|11.111111111111107|9.090909090909092|         8.325|7.684615384615384|\n",
      "|   95.6%|  44.6|  35.4|    0.558|               -0.85|    -0.46|   1.6|               7.4|  17.8|  26.2|  19.3|  12.4|                6.9|     3.9|             84.7|                7.8|     4.1|   1.9|    0.9|     0.7|               1.6|               7.4|             17.8|          26.2|             19.3|\n",
      "|  100.0%| 52.75| 27.25|   0.6595|-0.29000000000000004|   -0.845| 45.25|33.099999999999994|  14.5|  4.85|  1.65|   0.5|0.15000000000000002|     0.1|99.80000000000001|0.15000000000000002|     0.1|  NULL|   NULL|    NULL|             45.25|33.099999999999994|             14.5|          4.85|             1.65|\n",
      "|   44.4%|  36.9|  43.1|    0.462|               -3.75|    -0.04|  NULL|               0.1|   0.6|   2.4|   4.6|   8.5|               13.5|    14.7|             16.3|               12.2|    15.3|  16.1|   13.9|    26.2|14.285714285714283|               0.1|              0.6|           2.4|              4.6|\n",
      "|   92.1%|  43.5|  36.5|    0.543|               -3.49|    -0.52|   1.0|               4.5|  11.3|  19.4|  22.7|  17.0|               10.0|     6.2|             75.9|               11.4|     6.0|   3.6|    1.9|     1.2|               1.0|               4.5|             11.3|          19.4|             22.7|\n",
      "|   80.8%|  41.3|  38.7|    0.516|               -0.29|    -0.35|   0.2|               1.1|   5.2|  10.5|  16.5|  19.2|               15.7|    12.4|             52.7|               17.3|    12.6|   8.0|    4.6|     4.7|               0.2|               1.1|              5.2|          10.5|             16.5|\n",
      "|   98.9%|  47.5|  32.5|    0.593|               -1.51|    -0.39|   6.6|              19.5|  31.2|  19.3|  12.0|   6.3|                2.8|     1.3|             94.9|                3.1|     1.2|   0.5|    0.2|     0.1|               6.6|              19.5|             31.2|          19.3|             12.0|\n",
      "|   76.2%|  40.4|  39.6|    0.504|                -2.0|    -0.31|   0.1|               1.1|   4.0|   9.1|  13.6|  18.2|               17.2|    12.8|             46.2|               17.3|    14.2|   9.3|    6.2|     6.8|               0.1|               1.1|              4.0|           9.1|             13.6|\n",
      "|   38.8%|  36.2|  43.8|    0.452|               -1.34|     0.13|  NULL|               0.1|   0.4|   1.5|   3.4|   6.6|               11.9|    15.0|             12.0|               10.9|    14.7|  16.6|   16.0|    29.8|14.285714285714283|               0.1|              0.4|           1.5|              3.4|\n",
      "|   33.7%|  35.7|  44.3|    0.446|                2.07|    -0.49|  NULL|              NULL|   0.3|   1.0|   2.5|   5.8|               10.5|    13.6|              9.7|                9.4|    14.1|  15.7|   15.9|    35.3|14.285714285714283|11.111111111111107|              0.3|           1.0|              2.5|\n",
      "|   12.1%|  32.6|  47.4|    0.407|               -1.51|     0.24|  NULL|              NULL|  NULL|   0.1|   0.5|   1.4|                3.5|     6.5|              2.1|                3.1|     5.6|   8.7|   12.6|    67.9|14.285714285714283|11.111111111111107|9.090909090909092|           0.1|              0.5|\n",
      "|    2.6%|  29.4|  50.6|    0.367|                2.51|    -0.15|  NULL|              NULL|  NULL|  NULL|   0.1|   0.1|                0.7|     1.7|              0.2|                0.6|     1.4|   2.8|    5.5|    89.5|14.285714285714283|11.111111111111107|9.090909090909092|         8.325|              0.1|\n",
      "+--------+------+------+---------+--------------------+---------+------+------------------+------+------+------+------+-------------------+--------+-----------------+-------------------+--------+------+-------+--------+------------------+------------------+-----------------+--------------+-----------------+\n",
      "\n"
     ]
    }
   ],
   "source": [
    "df_pyspark5.groupBy('Playoffs').mean().show()"
   ]
  },
  {
   "cell_type": "code",
   "execution_count": 255,
   "id": "51958900",
   "metadata": {},
   "outputs": [
    {
     "name": "stdout",
     "output_type": "stream",
     "text": [
      "+--------+-----+\n",
      "|Playoffs|count|\n",
      "+--------+-----+\n",
      "|    2.5%|    1|\n",
      "|   21.7%|    1|\n",
      "|    0.6%|    1|\n",
      "|   95.6%|    1|\n",
      "|  100.0%|    2|\n",
      "|   44.4%|    1|\n",
      "|   92.1%|    1|\n",
      "|   80.8%|    1|\n",
      "|   98.9%|    1|\n",
      "|   76.2%|    1|\n",
      "|   38.8%|    1|\n",
      "|   33.7%|    1|\n",
      "|   12.1%|    1|\n",
      "|    2.6%|    1|\n",
      "+--------+-----+\n",
      "\n"
     ]
    }
   ],
   "source": [
    "df_pyspark5.groupBy('Playoffs').count().show()"
   ]
  },
  {
   "cell_type": "code",
   "execution_count": 257,
   "id": "ece194b9",
   "metadata": {},
   "outputs": [
    {
     "name": "stdout",
     "output_type": "stream",
     "text": [
      "+--------+\n",
      "|sum(SOS)|\n",
      "+--------+\n",
      "|  -13.84|\n",
      "+--------+\n",
      "\n"
     ]
    }
   ],
   "source": [
    "df_pyspark5.agg({'SOS':'sum'}).show()"
   ]
  },
  {
   "cell_type": "code",
   "execution_count": 261,
   "id": "4a63cbac",
   "metadata": {},
   "outputs": [
    {
     "name": "stdout",
     "output_type": "stream",
     "text": [
      "+--------------------+------+------+---------+--------+---------+------+------+------+------+------+------+--------+--------+--------+--------+--------+------+-------+--------+------------------+------------------+-----------------+--------------+-----------------+\n",
      "|  Western Conference|max(W)|max(L)|max(W/L%)|max(SOS)|max(rSOS)|max(1)|max(2)|max(3)|max(4)|max(5)|max(6)|max(719)|max(820)|max(1-6)|max(723)|max(824)|max(9)|max(10)|max(Out)|    max(1_imputed)|    max(2_imputed)|   max(3_imputed)|max(4_imputed)|   max(5_imputed)|\n",
      "+--------------------+------+------+---------+--------+---------+------+------+------+------+------+------+--------+--------+--------+--------+--------+------+-------+--------+------------------+------------------+-----------------+--------------+-----------------+\n",
      "|        Phoenix Suns|  36.9|  43.1|    0.462|   -3.75|    -0.04|  NULL|   0.1|   0.6|   2.4|   4.6|   8.5|    13.5|    14.7|    16.3|    12.2|    15.3|  16.1|   13.9|    26.2|14.285714285714283|               0.1|              0.6|           2.4|              4.6|\n",
      "|    Dallas Mavericks|  47.5|  32.5|    0.593|   -1.51|    -0.39|   6.6|  19.5|  31.2|  19.3|  12.0|   6.3|     2.8|     1.3|    94.9|     3.1|     1.2|   0.5|    0.2|     0.1|               6.6|              19.5|             31.2|          19.3|             12.0|\n",
      "|New Orleans Pelicans|  35.7|  44.3|    0.446|    2.07|    -0.49|  NULL|  NULL|   0.3|   1.0|   2.5|   5.8|    10.5|    13.6|     9.7|     9.4|    14.1|  15.7|   15.9|    35.3|14.285714285714283|11.111111111111107|              0.3|           1.0|              2.5|\n",
      "|Minnesota Timberw...|  53.1|  26.9|    0.664|    0.98|    -0.96|  50.9|  30.4|  13.0|   3.8|   1.4|   0.4|     0.1|     0.1|    99.9|     0.1|    NULL|  NULL|   NULL|    NULL|              50.9|              30.4|             13.0|           3.8|              1.4|\n",
      "|   Memphis Grizzlies|  26.5|  53.5|    0.331|   -3.13|     0.42|  NULL|  NULL|  NULL|  NULL|  NULL|   0.1|     0.1|     0.5|     0.1|     0.1|     0.2|   0.6|    1.5|    97.5|14.285714285714283|11.111111111111107|9.090909090909092|         8.325|7.684615384615384|\n",
      "|  Los Angeles Lakers|  34.3|  45.7|    0.428|    0.59|    -0.07|  NULL|  NULL|   0.2|   0.7|   1.4|   3.2|     6.5|     9.6|     5.5|     5.9|     9.4|  13.5|   16.0|    49.8|14.285714285714283|11.111111111111107|              0.2|           0.7|              1.4|\n",
      "|Golden State Warr...|  44.6|  35.4|    0.558|   -0.85|    -0.46|   1.6|   7.4|  17.8|  26.2|  19.3|  12.4|     6.9|     3.9|    84.7|     7.8|     4.1|   1.9|    0.9|     0.7|               1.6|               7.4|             17.8|          26.2|             19.3|\n",
      "|Los Angeles Clippers|  40.4|  39.6|    0.504|    -2.0|    -0.31|   0.1|   1.1|   4.0|   9.1|  13.6|  18.2|    17.2|    12.8|    46.2|    17.3|    14.2|   9.3|    6.2|     6.8|               0.1|               1.1|              4.0|           9.1|             13.6|\n",
      "|           Utah Jazz|  29.1|  50.9|    0.364|   -0.56|     0.35|  NULL|  NULL|  NULL|  NULL|  NULL|   0.2|     0.7|     1.6|     0.2|     0.5|     1.2|   2.7|    5.0|    90.5|14.285714285714283|11.111111111111107|9.090909090909092|         8.325|7.684615384615384|\n",
      "|Portland Trail Bl...|  32.6|  47.4|    0.407|   -1.51|     0.24|  NULL|  NULL|  NULL|   0.1|   0.5|   1.4|     3.5|     6.5|     2.1|     3.1|     5.6|   8.7|   12.6|    67.9|14.285714285714283|11.111111111111107|9.090909090909092|           0.1|              0.5|\n",
      "|   San Antonio Spurs|  29.4|  50.6|    0.367|    2.51|    -0.15|  NULL|  NULL|  NULL|  NULL|   0.1|   0.1|     0.7|     1.7|     0.2|     0.6|     1.4|   2.8|    5.5|    89.5|14.285714285714283|11.111111111111107|9.090909090909092|         8.325|              0.1|\n",
      "|Oklahoma City Thu...|  41.3|  38.7|    0.516|   -0.29|    -0.35|   0.2|   1.1|   5.2|  10.5|  16.5|  19.2|    15.7|    12.4|    52.7|    17.3|    12.6|   8.0|    4.6|     4.7|               0.2|               1.1|              5.2|          10.5|             16.5|\n",
      "|     Houston Rockets|  43.5|  36.5|    0.543|   -3.49|    -0.52|   1.0|   4.5|  11.3|  19.4|  22.7|  17.0|    10.0|     6.2|    75.9|    11.4|     6.0|   3.6|    1.9|     1.2|               1.0|               4.5|             11.3|          19.4|             22.7|\n",
      "|    Sacramento Kings|  36.2|  43.8|    0.452|   -1.34|     0.13|  NULL|   0.1|   0.4|   1.5|   3.4|   6.6|    11.9|    15.0|    12.0|    10.9|    14.7|  16.6|   16.0|    29.8|14.285714285714283|               0.1|              0.4|           1.5|              3.4|\n",
      "|      Denver Nuggets|  52.4|  27.6|    0.655|   -1.56|    -0.73|  39.6|  35.8|  16.0|   5.9|   1.9|   0.6|     0.2|     0.1|    99.7|     0.2|     0.1|  NULL|   NULL|    NULL|              39.6|              35.8|             16.0|           5.9|              1.9|\n",
      "+--------------------+------+------+---------+--------+---------+------+------+------+------+------+------+--------+--------+--------+--------+--------+------+-------+--------+------------------+------------------+-----------------+--------------+-----------------+\n",
      "\n"
     ]
    }
   ],
   "source": [
    "df_pyspark5.groupby('Western Conference').max().show()\n",
    "#not applicable as every row is unique cant find max from group "
   ]
  },
  {
   "cell_type": "code",
   "execution_count": 262,
   "id": "a4637d06",
   "metadata": {},
   "outputs": [
    {
     "name": "stdout",
     "output_type": "stream",
     "text": [
      "+--------------------+------+------+---------+--------+---------+------+------+------+------+------+------+--------+--------+--------+--------+--------+------+-------+--------+------------------+------------------+-----------------+--------------+-----------------+\n",
      "|  Western Conference|avg(W)|avg(L)|avg(W/L%)|avg(SOS)|avg(rSOS)|avg(1)|avg(2)|avg(3)|avg(4)|avg(5)|avg(6)|avg(719)|avg(820)|avg(1-6)|avg(723)|avg(824)|avg(9)|avg(10)|avg(Out)|    avg(1_imputed)|    avg(2_imputed)|   avg(3_imputed)|avg(4_imputed)|   avg(5_imputed)|\n",
      "+--------------------+------+------+---------+--------+---------+------+------+------+------+------+------+--------+--------+--------+--------+--------+------+-------+--------+------------------+------------------+-----------------+--------------+-----------------+\n",
      "|        Phoenix Suns|  36.9|  43.1|    0.462|   -3.75|    -0.04|  NULL|   0.1|   0.6|   2.4|   4.6|   8.5|    13.5|    14.7|    16.3|    12.2|    15.3|  16.1|   13.9|    26.2|14.285714285714283|               0.1|              0.6|           2.4|              4.6|\n",
      "|    Dallas Mavericks|  47.5|  32.5|    0.593|   -1.51|    -0.39|   6.6|  19.5|  31.2|  19.3|  12.0|   6.3|     2.8|     1.3|    94.9|     3.1|     1.2|   0.5|    0.2|     0.1|               6.6|              19.5|             31.2|          19.3|             12.0|\n",
      "|New Orleans Pelicans|  35.7|  44.3|    0.446|    2.07|    -0.49|  NULL|  NULL|   0.3|   1.0|   2.5|   5.8|    10.5|    13.6|     9.7|     9.4|    14.1|  15.7|   15.9|    35.3|14.285714285714283|11.111111111111107|              0.3|           1.0|              2.5|\n",
      "|Minnesota Timberw...|  53.1|  26.9|    0.664|    0.98|    -0.96|  50.9|  30.4|  13.0|   3.8|   1.4|   0.4|     0.1|     0.1|    99.9|     0.1|    NULL|  NULL|   NULL|    NULL|              50.9|              30.4|             13.0|           3.8|              1.4|\n",
      "|   Memphis Grizzlies|  26.5|  53.5|    0.331|   -3.13|     0.42|  NULL|  NULL|  NULL|  NULL|  NULL|   0.1|     0.1|     0.5|     0.1|     0.1|     0.2|   0.6|    1.5|    97.5|14.285714285714283|11.111111111111107|9.090909090909092|         8.325|7.684615384615384|\n",
      "|  Los Angeles Lakers|  34.3|  45.7|    0.428|    0.59|    -0.07|  NULL|  NULL|   0.2|   0.7|   1.4|   3.2|     6.5|     9.6|     5.5|     5.9|     9.4|  13.5|   16.0|    49.8|14.285714285714283|11.111111111111107|              0.2|           0.7|              1.4|\n",
      "|Golden State Warr...|  44.6|  35.4|    0.558|   -0.85|    -0.46|   1.6|   7.4|  17.8|  26.2|  19.3|  12.4|     6.9|     3.9|    84.7|     7.8|     4.1|   1.9|    0.9|     0.7|               1.6|               7.4|             17.8|          26.2|             19.3|\n",
      "|Los Angeles Clippers|  40.4|  39.6|    0.504|    -2.0|    -0.31|   0.1|   1.1|   4.0|   9.1|  13.6|  18.2|    17.2|    12.8|    46.2|    17.3|    14.2|   9.3|    6.2|     6.8|               0.1|               1.1|              4.0|           9.1|             13.6|\n",
      "|           Utah Jazz|  29.1|  50.9|    0.364|   -0.56|     0.35|  NULL|  NULL|  NULL|  NULL|  NULL|   0.2|     0.7|     1.6|     0.2|     0.5|     1.2|   2.7|    5.0|    90.5|14.285714285714283|11.111111111111107|9.090909090909092|         8.325|7.684615384615384|\n",
      "|Portland Trail Bl...|  32.6|  47.4|    0.407|   -1.51|     0.24|  NULL|  NULL|  NULL|   0.1|   0.5|   1.4|     3.5|     6.5|     2.1|     3.1|     5.6|   8.7|   12.6|    67.9|14.285714285714283|11.111111111111107|9.090909090909092|           0.1|              0.5|\n",
      "|   San Antonio Spurs|  29.4|  50.6|    0.367|    2.51|    -0.15|  NULL|  NULL|  NULL|  NULL|   0.1|   0.1|     0.7|     1.7|     0.2|     0.6|     1.4|   2.8|    5.5|    89.5|14.285714285714283|11.111111111111107|9.090909090909092|         8.325|              0.1|\n",
      "|Oklahoma City Thu...|  41.3|  38.7|    0.516|   -0.29|    -0.35|   0.2|   1.1|   5.2|  10.5|  16.5|  19.2|    15.7|    12.4|    52.7|    17.3|    12.6|   8.0|    4.6|     4.7|               0.2|               1.1|              5.2|          10.5|             16.5|\n",
      "|     Houston Rockets|  43.5|  36.5|    0.543|   -3.49|    -0.52|   1.0|   4.5|  11.3|  19.4|  22.7|  17.0|    10.0|     6.2|    75.9|    11.4|     6.0|   3.6|    1.9|     1.2|               1.0|               4.5|             11.3|          19.4|             22.7|\n",
      "|    Sacramento Kings|  36.2|  43.8|    0.452|   -1.34|     0.13|  NULL|   0.1|   0.4|   1.5|   3.4|   6.6|    11.9|    15.0|    12.0|    10.9|    14.7|  16.6|   16.0|    29.8|14.285714285714283|               0.1|              0.4|           1.5|              3.4|\n",
      "|      Denver Nuggets|  52.4|  27.6|    0.655|   -1.56|    -0.73|  39.6|  35.8|  16.0|   5.9|   1.9|   0.6|     0.2|     0.1|    99.7|     0.2|     0.1|  NULL|   NULL|    NULL|              39.6|              35.8|             16.0|           5.9|              1.9|\n",
      "+--------------------+------+------+---------+--------+---------+------+------+------+------+------+------+--------+--------+--------+--------+--------+------+-------+--------+------------------+------------------+-----------------+--------------+-----------------+\n",
      "\n"
     ]
    }
   ],
   "source": [
    "df_pyspark5.groupby('Western Conference').avg().show()"
   ]
  },
  {
   "cell_type": "code",
   "execution_count": 263,
   "id": "a1f6aee4",
   "metadata": {},
   "outputs": [],
   "source": [
    "#[Best,worst]----> new feature--->independent feature\n",
    "# taking two columns as an independent feature"
   ]
  },
  {
   "cell_type": "code",
   "execution_count": 264,
   "id": "b030412c",
   "metadata": {},
   "outputs": [],
   "source": [
    "from pyspark.ml.feature import VectorAssembler\n",
    "featureassembler=VectorAssembler(inputCols=[\"Best\",\"Worst\"],outputCol=\"Independent Features\")"
   ]
  },
  {
   "cell_type": "code",
   "execution_count": 265,
   "id": "5f3ba506",
   "metadata": {},
   "outputs": [
    {
     "ename": "IllegalArgumentException",
     "evalue": "Data type string of column Best is not supported.\nData type string of column Worst is not supported.",
     "output_type": "error",
     "traceback": [
      "\u001b[1;31m---------------------------------------------------------------------------\u001b[0m",
      "\u001b[1;31mIllegalArgumentException\u001b[0m                  Traceback (most recent call last)",
      "\u001b[1;32m~\\AppData\\Local\\Temp/ipykernel_7744/746182968.py\u001b[0m in \u001b[0;36m<module>\u001b[1;34m\u001b[0m\n\u001b[1;32m----> 1\u001b[1;33m \u001b[0moutput\u001b[0m\u001b[1;33m=\u001b[0m\u001b[0mfeatureassembler\u001b[0m\u001b[1;33m.\u001b[0m\u001b[0mtransform\u001b[0m\u001b[1;33m(\u001b[0m\u001b[0mdf_pyspark5\u001b[0m\u001b[1;33m)\u001b[0m\u001b[1;33m\u001b[0m\u001b[1;33m\u001b[0m\u001b[0m\n\u001b[0m",
      "\u001b[1;32m~\\anaconda3\\lib\\site-packages\\pyspark\\ml\\base.py\u001b[0m in \u001b[0;36mtransform\u001b[1;34m(self, dataset, params)\u001b[0m\n\u001b[0;32m    260\u001b[0m                 \u001b[1;32mreturn\u001b[0m \u001b[0mself\u001b[0m\u001b[1;33m.\u001b[0m\u001b[0mcopy\u001b[0m\u001b[1;33m(\u001b[0m\u001b[0mparams\u001b[0m\u001b[1;33m)\u001b[0m\u001b[1;33m.\u001b[0m\u001b[0m_transform\u001b[0m\u001b[1;33m(\u001b[0m\u001b[0mdataset\u001b[0m\u001b[1;33m)\u001b[0m\u001b[1;33m\u001b[0m\u001b[1;33m\u001b[0m\u001b[0m\n\u001b[0;32m    261\u001b[0m             \u001b[1;32melse\u001b[0m\u001b[1;33m:\u001b[0m\u001b[1;33m\u001b[0m\u001b[1;33m\u001b[0m\u001b[0m\n\u001b[1;32m--> 262\u001b[1;33m                 \u001b[1;32mreturn\u001b[0m \u001b[0mself\u001b[0m\u001b[1;33m.\u001b[0m\u001b[0m_transform\u001b[0m\u001b[1;33m(\u001b[0m\u001b[0mdataset\u001b[0m\u001b[1;33m)\u001b[0m\u001b[1;33m\u001b[0m\u001b[1;33m\u001b[0m\u001b[0m\n\u001b[0m\u001b[0;32m    263\u001b[0m         \u001b[1;32melse\u001b[0m\u001b[1;33m:\u001b[0m\u001b[1;33m\u001b[0m\u001b[1;33m\u001b[0m\u001b[0m\n\u001b[0;32m    264\u001b[0m             \u001b[1;32mraise\u001b[0m \u001b[0mTypeError\u001b[0m\u001b[1;33m(\u001b[0m\u001b[1;34m\"Params must be a param map but got %s.\"\u001b[0m \u001b[1;33m%\u001b[0m \u001b[0mtype\u001b[0m\u001b[1;33m(\u001b[0m\u001b[0mparams\u001b[0m\u001b[1;33m)\u001b[0m\u001b[1;33m)\u001b[0m\u001b[1;33m\u001b[0m\u001b[1;33m\u001b[0m\u001b[0m\n",
      "\u001b[1;32m~\\anaconda3\\lib\\site-packages\\pyspark\\ml\\wrapper.py\u001b[0m in \u001b[0;36m_transform\u001b[1;34m(self, dataset)\u001b[0m\n\u001b[0;32m    396\u001b[0m \u001b[1;33m\u001b[0m\u001b[0m\n\u001b[0;32m    397\u001b[0m         \u001b[0mself\u001b[0m\u001b[1;33m.\u001b[0m\u001b[0m_transfer_params_to_java\u001b[0m\u001b[1;33m(\u001b[0m\u001b[1;33m)\u001b[0m\u001b[1;33m\u001b[0m\u001b[1;33m\u001b[0m\u001b[0m\n\u001b[1;32m--> 398\u001b[1;33m         \u001b[1;32mreturn\u001b[0m \u001b[0mDataFrame\u001b[0m\u001b[1;33m(\u001b[0m\u001b[0mself\u001b[0m\u001b[1;33m.\u001b[0m\u001b[0m_java_obj\u001b[0m\u001b[1;33m.\u001b[0m\u001b[0mtransform\u001b[0m\u001b[1;33m(\u001b[0m\u001b[0mdataset\u001b[0m\u001b[1;33m.\u001b[0m\u001b[0m_jdf\u001b[0m\u001b[1;33m)\u001b[0m\u001b[1;33m,\u001b[0m \u001b[0mdataset\u001b[0m\u001b[1;33m.\u001b[0m\u001b[0msparkSession\u001b[0m\u001b[1;33m)\u001b[0m\u001b[1;33m\u001b[0m\u001b[1;33m\u001b[0m\u001b[0m\n\u001b[0m\u001b[0;32m    399\u001b[0m \u001b[1;33m\u001b[0m\u001b[0m\n\u001b[0;32m    400\u001b[0m \u001b[1;33m\u001b[0m\u001b[0m\n",
      "\u001b[1;32m~\\anaconda3\\lib\\site-packages\\py4j\\java_gateway.py\u001b[0m in \u001b[0;36m__call__\u001b[1;34m(self, *args)\u001b[0m\n\u001b[0;32m   1320\u001b[0m \u001b[1;33m\u001b[0m\u001b[0m\n\u001b[0;32m   1321\u001b[0m         \u001b[0manswer\u001b[0m \u001b[1;33m=\u001b[0m \u001b[0mself\u001b[0m\u001b[1;33m.\u001b[0m\u001b[0mgateway_client\u001b[0m\u001b[1;33m.\u001b[0m\u001b[0msend_command\u001b[0m\u001b[1;33m(\u001b[0m\u001b[0mcommand\u001b[0m\u001b[1;33m)\u001b[0m\u001b[1;33m\u001b[0m\u001b[1;33m\u001b[0m\u001b[0m\n\u001b[1;32m-> 1322\u001b[1;33m         return_value = get_return_value(\n\u001b[0m\u001b[0;32m   1323\u001b[0m             answer, self.gateway_client, self.target_id, self.name)\n\u001b[0;32m   1324\u001b[0m \u001b[1;33m\u001b[0m\u001b[0m\n",
      "\u001b[1;32m~\\anaconda3\\lib\\site-packages\\pyspark\\errors\\exceptions\\captured.py\u001b[0m in \u001b[0;36mdeco\u001b[1;34m(*a, **kw)\u001b[0m\n\u001b[0;32m    183\u001b[0m                 \u001b[1;31m# Hide where the exception came from that shows a non-Pythonic\u001b[0m\u001b[1;33m\u001b[0m\u001b[1;33m\u001b[0m\u001b[0m\n\u001b[0;32m    184\u001b[0m                 \u001b[1;31m# JVM exception message.\u001b[0m\u001b[1;33m\u001b[0m\u001b[1;33m\u001b[0m\u001b[0m\n\u001b[1;32m--> 185\u001b[1;33m                 \u001b[1;32mraise\u001b[0m \u001b[0mconverted\u001b[0m \u001b[1;32mfrom\u001b[0m \u001b[1;32mNone\u001b[0m\u001b[1;33m\u001b[0m\u001b[1;33m\u001b[0m\u001b[0m\n\u001b[0m\u001b[0;32m    186\u001b[0m             \u001b[1;32melse\u001b[0m\u001b[1;33m:\u001b[0m\u001b[1;33m\u001b[0m\u001b[1;33m\u001b[0m\u001b[0m\n\u001b[0;32m    187\u001b[0m                 \u001b[1;32mraise\u001b[0m\u001b[1;33m\u001b[0m\u001b[1;33m\u001b[0m\u001b[0m\n",
      "\u001b[1;31mIllegalArgumentException\u001b[0m: Data type string of column Best is not supported.\nData type string of column Worst is not supported."
     ]
    }
   ],
   "source": [
    "output=featureassembler.transform(df_pyspark5)"
   ]
  },
  {
   "cell_type": "code",
   "execution_count": null,
   "id": "f1732cea",
   "metadata": {},
   "outputs": [],
   "source": []
  },
  {
   "cell_type": "code",
   "execution_count": null,
   "id": "b83754cc",
   "metadata": {},
   "outputs": [],
   "source": []
  },
  {
   "cell_type": "code",
   "execution_count": null,
   "id": "669601a1",
   "metadata": {},
   "outputs": [],
   "source": []
  },
  {
   "cell_type": "code",
   "execution_count": null,
   "id": "7ae7a64e",
   "metadata": {},
   "outputs": [],
   "source": []
  },
  {
   "cell_type": "code",
   "execution_count": 266,
   "id": "b9f5704e",
   "metadata": {},
   "outputs": [],
   "source": [
    "## Read The dataset\n",
    "training = spark.read.csv(r\"C:\\Users\\akshay\\Downloads\\test1.csv\",header=True,inferSchema=True)"
   ]
  },
  {
   "cell_type": "code",
   "execution_count": 267,
   "id": "ebb4d2e8",
   "metadata": {},
   "outputs": [
    {
     "name": "stdout",
     "output_type": "stream",
     "text": [
      "+---------+---+----------+------+\n",
      "|     Name|age|Experience|Salary|\n",
      "+---------+---+----------+------+\n",
      "|    Krish| 31|        10| 30000|\n",
      "|Sudhanshu| 30|         8| 25000|\n",
      "|    Sunny| 29|         4| 20000|\n",
      "|     Paul| 24|         3| 20000|\n",
      "|   Harsha| 21|         1| 15000|\n",
      "|  Shubham| 23|         2| 18000|\n",
      "+---------+---+----------+------+\n",
      "\n"
     ]
    }
   ],
   "source": [
    "training.show()"
   ]
  },
  {
   "cell_type": "code",
   "execution_count": 268,
   "id": "2bbe16f5",
   "metadata": {},
   "outputs": [
    {
     "name": "stdout",
     "output_type": "stream",
     "text": [
      "root\n",
      " |-- Name: string (nullable = true)\n",
      " |-- age: integer (nullable = true)\n",
      " |-- Experience: integer (nullable = true)\n",
      " |-- Salary: integer (nullable = true)\n",
      "\n"
     ]
    }
   ],
   "source": [
    "training.printSchema()"
   ]
  },
  {
   "cell_type": "code",
   "execution_count": 269,
   "id": "25bbf970",
   "metadata": {},
   "outputs": [
    {
     "data": {
      "text/plain": [
       "['Name', 'age', 'Experience', 'Salary']"
      ]
     },
     "execution_count": 269,
     "metadata": {},
     "output_type": "execute_result"
    }
   ],
   "source": [
    "training.columns"
   ]
  },
  {
   "cell_type": "code",
   "execution_count": null,
   "id": "9d4b9148",
   "metadata": {},
   "outputs": [],
   "source": [
    "#[Age,Experience]----> new feature--->independent feature"
   ]
  },
  {
   "cell_type": "code",
   "execution_count": 270,
   "id": "9876d8f1",
   "metadata": {},
   "outputs": [],
   "source": [
    "from pyspark.ml.feature import VectorAssembler\n",
    "featureassembler=VectorAssembler(inputCols=[\"age\",\"Experience\"],outputCol=\"Independent Features\")"
   ]
  },
  {
   "cell_type": "code",
   "execution_count": 271,
   "id": "806eb3f4",
   "metadata": {},
   "outputs": [],
   "source": [
    "output=featureassembler.transform(training)"
   ]
  },
  {
   "cell_type": "code",
   "execution_count": 272,
   "id": "4e249a7e",
   "metadata": {},
   "outputs": [
    {
     "name": "stdout",
     "output_type": "stream",
     "text": [
      "+---------+---+----------+------+--------------------+\n",
      "|     Name|age|Experience|Salary|Independent Features|\n",
      "+---------+---+----------+------+--------------------+\n",
      "|    Krish| 31|        10| 30000|         [31.0,10.0]|\n",
      "|Sudhanshu| 30|         8| 25000|          [30.0,8.0]|\n",
      "|    Sunny| 29|         4| 20000|          [29.0,4.0]|\n",
      "|     Paul| 24|         3| 20000|          [24.0,3.0]|\n",
      "|   Harsha| 21|         1| 15000|          [21.0,1.0]|\n",
      "|  Shubham| 23|         2| 18000|          [23.0,2.0]|\n",
      "+---------+---+----------+------+--------------------+\n",
      "\n"
     ]
    }
   ],
   "source": [
    "output.show()"
   ]
  },
  {
   "cell_type": "code",
   "execution_count": 273,
   "id": "135efd46",
   "metadata": {},
   "outputs": [],
   "source": [
    "finalized_data=output.select(\"Independent Features\",\"Salary\")"
   ]
  },
  {
   "cell_type": "code",
   "execution_count": 275,
   "id": "18793713",
   "metadata": {},
   "outputs": [
    {
     "name": "stdout",
     "output_type": "stream",
     "text": [
      "+--------------------+------+\n",
      "|Independent Features|Salary|\n",
      "+--------------------+------+\n",
      "|         [31.0,10.0]| 30000|\n",
      "|          [30.0,8.0]| 25000|\n",
      "|          [29.0,4.0]| 20000|\n",
      "|          [24.0,3.0]| 20000|\n",
      "|          [21.0,1.0]| 15000|\n",
      "|          [23.0,2.0]| 18000|\n",
      "+--------------------+------+\n",
      "\n"
     ]
    }
   ],
   "source": [
    "finalized_data.show()"
   ]
  },
  {
   "cell_type": "code",
   "execution_count": 276,
   "id": "3856bfa1",
   "metadata": {},
   "outputs": [],
   "source": [
    "from pyspark.ml.regression import LinearRegression\n",
    "##train test split\n",
    "train_data,test_data=finalized_data.randomSplit([0.75,0.25])\n",
    "regressor=LinearRegression(featuresCol='Independent Features', labelCol='Salary')\n",
    "regressor=regressor.fit(train_data)"
   ]
  },
  {
   "cell_type": "code",
   "execution_count": 277,
   "id": "573bd36e",
   "metadata": {},
   "outputs": [
    {
     "data": {
      "text/plain": [
       "DenseVector([-263.7076, 1767.624])"
      ]
     },
     "execution_count": 277,
     "metadata": {},
     "output_type": "execute_result"
    }
   ],
   "source": [
    "### Coefficients\n",
    "regressor.coefficients"
   ]
  },
  {
   "cell_type": "code",
   "execution_count": 278,
   "id": "5642e0f0",
   "metadata": {},
   "outputs": [
    {
     "data": {
      "text/plain": [
       "19919.060052212404"
      ]
     },
     "execution_count": 278,
     "metadata": {},
     "output_type": "execute_result"
    }
   ],
   "source": [
    "### Intercepts\n",
    "regressor.intercept"
   ]
  },
  {
   "cell_type": "code",
   "execution_count": 279,
   "id": "00a85aa5",
   "metadata": {},
   "outputs": [],
   "source": [
    "### Prediction\n",
    "pred_results=regressor.evaluate(test_data)"
   ]
  },
  {
   "cell_type": "code",
   "execution_count": 280,
   "id": "8d6f47a5",
   "metadata": {},
   "outputs": [
    {
     "name": "stdout",
     "output_type": "stream",
     "text": [
      "+--------------------+------+-----------------+\n",
      "|Independent Features|Salary|       prediction|\n",
      "+--------------------+------+-----------------+\n",
      "|          [29.0,4.0]| 20000|19342.03655352618|\n",
      "+--------------------+------+-----------------+\n",
      "\n"
     ]
    }
   ],
   "source": [
    "pred_results.predictions.show()"
   ]
  },
  {
   "cell_type": "code",
   "execution_count": 281,
   "id": "73c1252c",
   "metadata": {},
   "outputs": [
    {
     "data": {
      "text/plain": [
       "(657.9634464738192, 432915.89689570636)"
      ]
     },
     "execution_count": 281,
     "metadata": {},
     "output_type": "execute_result"
    }
   ],
   "source": [
    "pred_results.meanAbsoluteError,pred_results.meanSquaredError"
   ]
  },
  {
   "cell_type": "code",
   "execution_count": null,
   "id": "5d96840b",
   "metadata": {},
   "outputs": [],
   "source": []
  }
 ],
 "metadata": {
  "kernelspec": {
   "display_name": "Python 3 (ipykernel)",
   "language": "python",
   "name": "python3"
  },
  "language_info": {
   "codemirror_mode": {
    "name": "ipython",
    "version": 3
   },
   "file_extension": ".py",
   "mimetype": "text/x-python",
   "name": "python",
   "nbconvert_exporter": "python",
   "pygments_lexer": "ipython3",
   "version": "3.9.7"
  }
 },
 "nbformat": 4,
 "nbformat_minor": 5
}
